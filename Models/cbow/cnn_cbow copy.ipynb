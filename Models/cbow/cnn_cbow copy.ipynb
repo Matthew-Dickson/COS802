{
 "cells": [
  {
   "cell_type": "code",
   "execution_count": 1,
   "metadata": {},
   "outputs": [
    {
     "name": "stderr",
     "output_type": "stream",
     "text": [
      "c:\\Python39\\lib\\site-packages\\requests\\__init__.py:102: RequestsDependencyWarning: urllib3 (1.26.7) or chardet (5.0.0)/charset_normalizer (2.0.9) doesn't match a supported version!\n",
      "  warnings.warn(\"urllib3 ({}) or chardet ({})/charset_normalizer ({}) doesn't match a supported \"\n"
     ]
    }
   ],
   "source": [
    "from sklearn.model_selection import train_test_split, KFold\n",
    "import numpy as np\n",
    "import pandas as pd\n",
    "from sklearn.feature_extraction.text import TfidfVectorizer\n",
    "import pandas as pd\n",
    "from sklearn.preprocessing import LabelBinarizer\n",
    "import tensorflow as tf\n",
    "import matplotlib.pyplot as plt\n",
    "import time\n",
    "from sklearn.metrics import accuracy_score\n",
    "from sklearn.metrics import precision_recall_fscore_support as score\n",
    "from keras.models import Model\n",
    "from keras.layers import Input, Convolution1D, Flatten, Dense, Dropout, Embedding\n",
    "from keras.optimizers import Adam\n",
    "import tensorflow as tf\n",
    "import nltk \n",
    "from gensim.models import Word2Vec\n",
    "from nltk.tokenize import sent_tokenize, word_tokenize\n",
    "from keras.preprocessing.text import Tokenizer\n",
    "from keras_preprocessing.sequence import pad_sequences"
   ]
  },
  {
   "cell_type": "code",
   "execution_count": 2,
   "metadata": {},
   "outputs": [],
   "source": [
    "#nltk.download() "
   ]
  },
  {
   "cell_type": "code",
   "execution_count": 3,
   "metadata": {},
   "outputs": [],
   "source": [
    "#Hyper Parameters\n",
    "FILE_NAME = \"../../Data/processed_data.csv\"\n",
    "DENSE_LAYER_SIZE =256\n",
    "BATCH_SIZE = 32\n",
    "EPOCH_LENGTH = 10\n",
    "VALIDATION_PERCENTAGE = 0.1\n",
    "TEST_SIZE_PERCENTAGE = 0.2\n",
    "NUMBER_K_FOLDS = 3\n",
    "LEARNING_RATE = 0.1\n",
    "VERBOSE = 1\n",
    "HIDDEN_ACTIVATION_FUNCTION = 'relu'\n",
    "OUTPUT_ACTIVATION_FUNCTION = 'softmax'\n",
    "LOSS_FUNCTION = 'categorical_crossentropy'\n",
    "METRICS=['accuracy']\n",
    "Y_LABEL_NAME=\"author\"\n",
    "X_LABEL_NAME=\"text\""
   ]
  },
  {
   "cell_type": "code",
   "execution_count": 4,
   "metadata": {},
   "outputs": [],
   "source": [
    "#Defining model\n",
    "def define_model(input_size, output_size, verbose = True, dense_layer_size = 50,\n",
    "                 hidden_activation_fn = 'relu', output_activation_fn='softmax',\n",
    "                 learning = 0.0005, loss_function = 'categorical_crossentropy', metrics = ['accuracy']):\n",
    "    \n",
    "  \n",
    "    inputs = Input(shape = (input_size,1))\n",
    "    dense1 = Convolution1D(filters = 100, kernel_size = 3, activation=hidden_activation_fn)(inputs)\n",
    "    flat1 = Flatten()(dense1)\n",
    "\n",
    "    output = Dense(units=output_size, activation=output_activation_fn)(flat1)\n",
    "  \n",
    "    \n",
    "    # Create model\n",
    "    model = Model(inputs = [inputs], outputs = [output])\n",
    "    \n",
    "    # Compile model\n",
    "    model.compile(loss=loss_function, optimizer = Adam(learning_rate = learning), metrics=metrics)\n",
    "    \n",
    "    if verbose:\n",
    "        print(model.summary())\n",
    "\n",
    "    return model"
   ]
  },
  {
   "cell_type": "code",
   "execution_count": 5,
   "metadata": {},
   "outputs": [],
   "source": [
    "#Read data\n",
    "data = pd.read_csv(FILE_NAME)"
   ]
  },
  {
   "cell_type": "code",
   "execution_count": 6,
   "metadata": {},
   "outputs": [],
   "source": [
    "documents = data[X_LABEL_NAME]\n",
    "tokenizer = Tokenizer()"
   ]
  },
  {
   "cell_type": "code",
   "execution_count": 7,
   "metadata": {},
   "outputs": [],
   "source": [
    "tokenizer.fit_on_texts(documents)\n",
    "vocab_size = len(tokenizer.word_index) + 1"
   ]
  },
  {
   "cell_type": "code",
   "execution_count": 8,
   "metadata": {},
   "outputs": [],
   "source": [
    "encoded_docs = tokenizer.texts_to_sequences(documents)\n"
   ]
  },
  {
   "cell_type": "code",
   "execution_count": 9,
   "metadata": {},
   "outputs": [
    {
     "name": "stdout",
     "output_type": "stream",
     "text": [
      "[[   26  2954   143 ...     0     0     0]\n",
      " [   11    89   125 ...     0     0     0]\n",
      " [    7    15   145 ...     0     0     0]\n",
      " ...\n",
      " [10408  5067 15798 ...     0     0     0]\n",
      " [   17    34  4660 ...     0     0     0]\n",
      " [   13  1353     6 ...     0     0     0]]\n"
     ]
    }
   ],
   "source": [
    "max_length = 150\n",
    "padded_docs = pad_sequences(encoded_docs, maxlen=max_length, padding='post')\n",
    "print(padded_docs)"
   ]
  },
  {
   "cell_type": "code",
   "execution_count": 10,
   "metadata": {},
   "outputs": [],
   "source": [
    "#Defining model\n",
    "def define_model(input_size, output_size, verbose = True, dense_layer_size = 50,\n",
    "                 hidden_activation_fn = 'relu', output_activation_fn='softmax',\n",
    "                 learning = 0.0005, loss_function = 'categorical_crossentropy', metrics = ['accuracy']):\n",
    "    \n",
    "  \n",
    "    inputs = Input(shape = (input_size,1))\n",
    "    emb_lay = Embedding(vocab_size, 100, input_length=max_length)(inputs)\n",
    "    dense1 = Convolution1D(filters = 100, kernel_size = 3, activation=hidden_activation_fn)(inputs)\n",
    "    flat1 = Flatten()(dense1)\n",
    "\n",
    "    output = Dense(units=output_size, activation=output_activation_fn)(flat1)\n",
    "  \n",
    "    \n",
    "    # Create model\n",
    "    model = Model(inputs = [inputs], outputs = [output])\n",
    "    \n",
    "    # Compile model\n",
    "    model.compile(loss=loss_function, optimizer = Adam(learning_rate = learning), metrics=metrics)\n",
    "    \n",
    "    if verbose:\n",
    "        print(model.summary())\n",
    "\n",
    "    return model"
   ]
  },
  {
   "cell_type": "code",
   "execution_count": 11,
   "metadata": {},
   "outputs": [],
   "source": [
    "#Get corpus and y label\n",
    "text = data[X_LABEL_NAME]\n",
    "author = data[Y_LABEL_NAME]"
   ]
  },
  {
   "cell_type": "code",
   "execution_count": 12,
   "metadata": {},
   "outputs": [],
   "source": [
    "#Split data\n",
    "text_train, text_test, author_train, author_test = train_test_split(text, author, test_size = TEST_SIZE_PERCENTAGE, random_state = 5)"
   ]
  },
  {
   "cell_type": "code",
   "execution_count": 13,
   "metadata": {},
   "outputs": [],
   "source": [
    "X_train= tokenizer.texts_to_sequences(text_train)\n",
    "X_train =  pad_sequences(X_train, maxlen=max_length, padding='post')"
   ]
  },
  {
   "cell_type": "code",
   "execution_count": 14,
   "metadata": {},
   "outputs": [],
   "source": [
    "\n",
    "X_test= tokenizer.texts_to_sequences(text_test)\n",
    "X_test =  pad_sequences(X_test, maxlen=max_length, padding='post')"
   ]
  },
  {
   "cell_type": "code",
   "execution_count": 15,
   "metadata": {},
   "outputs": [],
   "source": [
    "\n",
    "#Get input and output dimensions\n",
    "input_size = X_train.shape[1]\n",
    "output_size = len(author.unique())"
   ]
  },
  {
   "cell_type": "code",
   "execution_count": 16,
   "metadata": {},
   "outputs": [],
   "source": [
    "# One hot encode y labels\n",
    "author_lb = LabelBinarizer()\n",
    "author_lb.fit(author_train)\n",
    "author_train_hot = author_lb.transform(author_train)\n",
    "author_test_hot = author_lb.transform(author_test)"
   ]
  },
  {
   "cell_type": "code",
   "execution_count": 17,
   "metadata": {},
   "outputs": [
    {
     "name": "stdout",
     "output_type": "stream",
     "text": [
      "(15663, 150)\n",
      "(3916, 150)\n",
      "(15663,)\n",
      "(3916,)\n"
     ]
    }
   ],
   "source": [
    "print(np.shape(X_train))\n",
    "print(np.shape(X_test))\n",
    "print(np.shape(author_train))\n",
    "print(np.shape(author_test))"
   ]
  },
  {
   "cell_type": "code",
   "execution_count": 18,
   "metadata": {},
   "outputs": [],
   "source": [
    "# X_train = X_train[:,None]\n",
    "# X_test = X_test[:,None]\n",
    "\n",
    "# X_train = X_train[:None,]\n",
    "# X_test = X_test[:None,]"
   ]
  },
  {
   "cell_type": "code",
   "execution_count": 19,
   "metadata": {},
   "outputs": [
    {
     "name": "stdout",
     "output_type": "stream",
     "text": [
      "(15663, 150)\n",
      "(3916, 150)\n"
     ]
    }
   ],
   "source": [
    "print(np.shape(X_train))\n",
    "print(np.shape(X_test))"
   ]
  },
  {
   "cell_type": "code",
   "execution_count": 20,
   "metadata": {},
   "outputs": [],
   "source": [
    "# X_train = np.reshape(X_train,( -1,23230,1))\n",
    "# X_test= np.reshape(X_test,( -1,23230,1))\n",
    "\n",
    "# X_train = np.reshape(X_train,( -1,1,23230))\n",
    "# X_test= np.reshape(X_test,( -1,1,23230))"
   ]
  },
  {
   "cell_type": "code",
   "execution_count": 21,
   "metadata": {},
   "outputs": [
    {
     "name": "stdout",
     "output_type": "stream",
     "text": [
      "Run: 1\n",
      "Epoch 1/10\n",
      "294/294 [==============================] - 1s 4ms/step - loss: 118.3034 - accuracy: 0.3888 - val_loss: 1.0902 - val_accuracy: 0.3962\n",
      "Epoch 2/10\n",
      "294/294 [==============================] - 1s 4ms/step - loss: 1.0960 - accuracy: 0.3897 - val_loss: 1.0945 - val_accuracy: 0.3962\n",
      "Epoch 3/10\n",
      "294/294 [==============================] - 1s 4ms/step - loss: 1.0940 - accuracy: 0.3967 - val_loss: 1.0920 - val_accuracy: 0.3962\n",
      "Epoch 4/10\n",
      "294/294 [==============================] - 1s 4ms/step - loss: 1.0932 - accuracy: 0.3946 - val_loss: 1.1151 - val_accuracy: 0.3962\n",
      "Epoch 5/10\n",
      "294/294 [==============================] - 1s 4ms/step - loss: 1.0937 - accuracy: 0.3981 - val_loss: 1.0910 - val_accuracy: 0.3962\n",
      "Epoch 6/10\n",
      "294/294 [==============================] - 1s 4ms/step - loss: 1.0951 - accuracy: 0.3896 - val_loss: 1.1057 - val_accuracy: 0.3139\n",
      "Epoch 7/10\n",
      "294/294 [==============================] - 1s 4ms/step - loss: 1.0950 - accuracy: 0.3899 - val_loss: 1.0909 - val_accuracy: 0.3962\n",
      "Epoch 8/10\n",
      "294/294 [==============================] - 1s 4ms/step - loss: 1.0930 - accuracy: 0.3900 - val_loss: 1.1014 - val_accuracy: 0.3962\n",
      "Epoch 9/10\n",
      "294/294 [==============================] - 1s 3ms/step - loss: 1.0944 - accuracy: 0.3899 - val_loss: 1.0946 - val_accuracy: 0.3962\n",
      "Epoch 10/10\n",
      "294/294 [==============================] - 1s 3ms/step - loss: 1.0939 - accuracy: 0.3855 - val_loss: 1.1040 - val_accuracy: 0.3962\n",
      "123/123 [==============================] - 0s 2ms/step\n",
      "Run: 2\n",
      "Epoch 1/10\n"
     ]
    },
    {
     "name": "stderr",
     "output_type": "stream",
     "text": [
      "c:\\Python39\\lib\\site-packages\\sklearn\\metrics\\_classification.py:1334: UndefinedMetricWarning: Precision and F-score are ill-defined and being set to 0.0 in labels with no predicted samples. Use `zero_division` parameter to control this behavior.\n",
      "  _warn_prf(average, modifier, msg_start, len(result))\n"
     ]
    },
    {
     "name": "stdout",
     "output_type": "stream",
     "text": [
      "294/294 [==============================] - 1s 4ms/step - loss: 92.1538 - accuracy: 0.3870 - val_loss: 1.0947 - val_accuracy: 0.3962\n",
      "Epoch 2/10\n",
      "294/294 [==============================] - 1s 4ms/step - loss: 1.0927 - accuracy: 0.3924 - val_loss: 1.0964 - val_accuracy: 0.3962\n",
      "Epoch 3/10\n",
      "294/294 [==============================] - 1s 4ms/step - loss: 1.0935 - accuracy: 0.3934 - val_loss: 1.1029 - val_accuracy: 0.3139\n",
      "Epoch 4/10\n",
      "294/294 [==============================] - 1s 4ms/step - loss: 1.0945 - accuracy: 0.3903 - val_loss: 1.0906 - val_accuracy: 0.3962\n",
      "Epoch 5/10\n",
      "294/294 [==============================] - 1s 4ms/step - loss: 1.0932 - accuracy: 0.3888 - val_loss: 1.0953 - val_accuracy: 0.3962\n",
      "Epoch 6/10\n",
      "294/294 [==============================] - 1s 4ms/step - loss: 1.0928 - accuracy: 0.3977 - val_loss: 1.1100 - val_accuracy: 0.3139\n",
      "Epoch 7/10\n",
      "294/294 [==============================] - 1s 4ms/step - loss: 1.0929 - accuracy: 0.3967 - val_loss: 1.0904 - val_accuracy: 0.3962\n",
      "Epoch 8/10\n",
      "294/294 [==============================] - 1s 3ms/step - loss: 1.0934 - accuracy: 0.3926 - val_loss: 1.0969 - val_accuracy: 0.3139\n",
      "Epoch 9/10\n",
      "294/294 [==============================] - 1s 3ms/step - loss: 1.0929 - accuracy: 0.3920 - val_loss: 1.0958 - val_accuracy: 0.3962\n",
      "Epoch 10/10\n",
      "294/294 [==============================] - 1s 3ms/step - loss: 1.0934 - accuracy: 0.3898 - val_loss: 1.0962 - val_accuracy: 0.3139\n",
      "123/123 [==============================] - 0s 2ms/step\n",
      "Run: 3\n",
      "Epoch 1/10\n"
     ]
    },
    {
     "name": "stderr",
     "output_type": "stream",
     "text": [
      "c:\\Python39\\lib\\site-packages\\sklearn\\metrics\\_classification.py:1334: UndefinedMetricWarning: Precision and F-score are ill-defined and being set to 0.0 in labels with no predicted samples. Use `zero_division` parameter to control this behavior.\n",
      "  _warn_prf(average, modifier, msg_start, len(result))\n"
     ]
    },
    {
     "name": "stdout",
     "output_type": "stream",
     "text": [
      "294/294 [==============================] - 1s 4ms/step - loss: 142.5940 - accuracy: 0.3920 - val_loss: 1.0901 - val_accuracy: 0.4105\n",
      "Epoch 2/10\n",
      "294/294 [==============================] - 1s 3ms/step - loss: 1.0934 - accuracy: 0.3951 - val_loss: 1.0884 - val_accuracy: 0.4105\n",
      "Epoch 3/10\n",
      "294/294 [==============================] - 1s 3ms/step - loss: 1.0928 - accuracy: 0.3993 - val_loss: 1.0866 - val_accuracy: 0.4105\n",
      "Epoch 4/10\n",
      "294/294 [==============================] - 1s 3ms/step - loss: 1.0916 - accuracy: 0.3964 - val_loss: 1.0895 - val_accuracy: 0.4105\n",
      "Epoch 5/10\n",
      "294/294 [==============================] - 1s 3ms/step - loss: 1.0932 - accuracy: 0.3911 - val_loss: 1.0869 - val_accuracy: 0.4105\n",
      "Epoch 6/10\n",
      "294/294 [==============================] - 1s 3ms/step - loss: 1.0935 - accuracy: 0.3854 - val_loss: 1.0854 - val_accuracy: 0.4105\n",
      "Epoch 7/10\n",
      "294/294 [==============================] - 1s 3ms/step - loss: 1.0927 - accuracy: 0.3987 - val_loss: 1.0866 - val_accuracy: 0.4105\n",
      "Epoch 8/10\n",
      "294/294 [==============================] - 1s 3ms/step - loss: 1.0937 - accuracy: 0.3952 - val_loss: 1.0880 - val_accuracy: 0.4105\n",
      "Epoch 9/10\n",
      "294/294 [==============================] - 1s 3ms/step - loss: 1.0927 - accuracy: 0.3962 - val_loss: 1.0873 - val_accuracy: 0.4105\n",
      "Epoch 10/10\n",
      "294/294 [==============================] - 1s 3ms/step - loss: 1.0931 - accuracy: 0.3940 - val_loss: 1.1007 - val_accuracy: 0.4105\n",
      "123/123 [==============================] - 0s 2ms/step\n",
      "Test Accuracy: [0.4090909090909091, 0.3084780388151175, 0.4090909090909091]\n",
      "Ave. Precision: [0.16735537190082647, 0.09515870043122113, 0.16735537190082647]\n",
      "Ave. Recall: [0.4090909090909091, 0.3084780388151175, 0.4090909090909091]\n",
      "Ave. F1 Score: [0.23753665689149564, 0.1454494421891733, 0.23753665689149564]\n"
     ]
    },
    {
     "name": "stderr",
     "output_type": "stream",
     "text": [
      "c:\\Python39\\lib\\site-packages\\sklearn\\metrics\\_classification.py:1334: UndefinedMetricWarning: Precision and F-score are ill-defined and being set to 0.0 in labels with no predicted samples. Use `zero_division` parameter to control this behavior.\n",
      "  _warn_prf(average, modifier, msg_start, len(result))\n"
     ]
    }
   ],
   "source": [
    "# Sets seed\n",
    "np.random.seed(28)\n",
    "kf = KFold(n_splits = NUMBER_K_FOLDS)\n",
    "\n",
    "test_accuracy_list = []\n",
    "prec_list = []\n",
    "recall_list = []\n",
    "f1_list = []\n",
    "training_time_list = []\n",
    "prediction_time_list = []\n",
    "full_history =[]\n",
    "\n",
    "run = 0\n",
    "\n",
    "\n",
    "for train_inds, _ in kf.split(X_train):\n",
    "    run += 1\n",
    "    print('Run:', run)\n",
    "       \n",
    "    train_x = np.array([X_train[i] for i in train_inds])\n",
    "    train_y = np.array([author_train_hot[i] for i in train_inds])\n",
    "       \n",
    "    t0 = time.time()\n",
    "    # Fit model\n",
    "    cnn_model = define_model(input_size= input_size, output_size= output_size, verbose = False,\n",
    "                      dense_layer_size = DENSE_LAYER_SIZE, hidden_activation_fn = HIDDEN_ACTIVATION_FUNCTION,\n",
    "                      output_activation_fn = OUTPUT_ACTIVATION_FUNCTION, learning=LEARNING_RATE, loss_function = LOSS_FUNCTION, metrics=METRICS)\n",
    "\n",
    "    histroy = cnn_model.fit(train_x, train_y, epochs=EPOCH_LENGTH, batch_size=BATCH_SIZE, verbose = VERBOSE,validation_split = VALIDATION_PERCENTAGE)\n",
    "  \n",
    "    t1 = time.time()\n",
    "    \n",
    "    # Predict values for test set\n",
    "    author_pred1 = cnn_model.predict(X_test)\n",
    "    author_pred1 = author_lb.inverse_transform(author_pred1)\n",
    "\n",
    "    t2 = time.time()\n",
    "\n",
    "    # Evaluate\n",
    "    test_accuracy = accuracy_score(author_test, author_pred1)\n",
    "    precision, recall, f1, support = score(author_test, author_pred1)\n",
    "    ave_precision = np.average(precision, weights = support/np.sum(support))\n",
    "    ave_recall = np.average(recall, weights = support/np.sum(support))\n",
    "    ave_f1 = np.average(f1, weights = support/np.sum(support))\n",
    "    training_time = (t1 - t0)\n",
    "    prediction_time = (t2 - t1)\n",
    "    \n",
    "    test_accuracy_list.append(test_accuracy)\n",
    "    prec_list.append(ave_precision)\n",
    "    recall_list.append(ave_recall)\n",
    "    f1_list.append(ave_f1)\n",
    "    training_time_list.append(training_time)\n",
    "    prediction_time_list.append(prediction_time)\n",
    "    full_history.append(histroy)\n",
    "\n",
    "print(\"Test Accuracy:\", test_accuracy_list)\n",
    "print(\"Ave. Precision:\", prec_list)\n",
    "print(\"Ave. Recall:\", recall_list)\n",
    "print(\"Ave. F1 Score:\", f1_list)"
   ]
  },
  {
   "cell_type": "code",
   "execution_count": 22,
   "metadata": {},
   "outputs": [
    {
     "name": "stdout",
     "output_type": "stream",
     "text": [
      "Average Accuracy across K-folds: 0.3755532856656452\n",
      "Average Precision across K-folds: 0.14328981474429137\n",
      "Average Recall across K-folds: 0.3755532856656452\n",
      "Average F1 Score across K-folds: 0.20684091865738818\n",
      "Average Training Time across K-folds: 10.31300139427185 seconds\n",
      "Prediction Time across K-folds: 0.26799917221069336 seconds\n"
     ]
    }
   ],
   "source": [
    "#Get averages for kfold runs\n",
    "mean_accuracy_across_kfold = np.mean(test_accuracy_list)\n",
    "mean_percision_across_kfold = np.mean(prec_list)\n",
    "mean_recall_across_kfold = np.mean(recall_list)\n",
    "mean_f1_across_kfold = np.mean(f1_list)\n",
    "\n",
    "\n",
    "print(\"Average Accuracy across K-folds:\", mean_accuracy_across_kfold)\n",
    "print(\"Average Precision across K-folds:\", mean_percision_across_kfold)\n",
    "print(\"Average Recall across K-folds:\", mean_recall_across_kfold)\n",
    "print(\"Average F1 Score across K-folds:\", mean_f1_across_kfold)\n",
    "print(\"Average Training Time across K-folds:\", (t1 - t0), \"seconds\")\n",
    "print(\"Prediction Time across K-folds:\", (t2 - t1), \"seconds\")"
   ]
  },
  {
   "cell_type": "code",
   "execution_count": 23,
   "metadata": {},
   "outputs": [],
   "source": [
    "average_test_loss_accross_kfold = []\n",
    "average_validation_loss_accross_kfold = []\n",
    "average_test_accuracy_accross_kfold = []\n",
    "average_validation_accuracy_accross_kfold = []\n",
    "\n",
    "for i in range(len(full_history)):\n",
    "    average_test_loss_accross_kfold.append(full_history[i].history['loss'])\n",
    "    average_validation_loss_accross_kfold.append(full_history[i].history['val_loss'])\n",
    "\n",
    "    average_test_accuracy_accross_kfold.append(full_history[i].history['accuracy'])\n",
    "    average_validation_accuracy_accross_kfold.append(full_history[i].history['val_accuracy'])\n",
    "\n",
    "average_loss_accross_kfold = np.mean(average_test_loss_accross_kfold,axis=0)\n",
    "average_validation_loss_accross_kfold = np.mean(average_validation_loss_accross_kfold,axis=0)\n",
    "\n",
    "average_accuracy_accross_kfold = np.mean(average_test_accuracy_accross_kfold,axis=0)\n",
    "average_validation_accuracy_accross_kfold = np.mean(average_validation_accuracy_accross_kfold,axis=0)"
   ]
  },
  {
   "cell_type": "code",
   "execution_count": 24,
   "metadata": {},
   "outputs": [
    {
     "name": "stderr",
     "output_type": "stream",
     "text": [
      "The PostScript backend does not support transparency; partially transparent artists will be rendered opaque.\n"
     ]
    },
    {
     "data": {
      "image/png": "[encoded data removed]",
      "text/plain": [
       "<Figure size 640x480 with 1 Axes>"
      ]
     },
     "metadata": {},
     "output_type": "display_data"
    }
   ],
   "source": [
    "# summarize history for accuracy\n",
    "plt.plot(average_accuracy_accross_kfold)\n",
    "plt.plot(average_validation_accuracy_accross_kfold)\n",
    "plt.title('Convolutional Neural Network Accuracy (cbow)')\n",
    "plt.ylabel('accuracy')\n",
    "plt.xlabel('epoch')\n",
    "plt.legend(['Train', 'Validation'], loc='upper left')\n",
    "plt.savefig(\"../outputs/Convolutional_neural_network_cbow_acc.eps\", format='eps')\n",
    "plt.show()"
   ]
  },
  {
   "cell_type": "code",
   "execution_count": 25,
   "metadata": {},
   "outputs": [
    {
     "name": "stderr",
     "output_type": "stream",
     "text": [
      "The PostScript backend does not support transparency; partially transparent artists will be rendered opaque.\n"
     ]
    },
    {
     "data": {
      "image/png": "[encoded data removed]",
      "text/plain": [
       "<Figure size 640x480 with 1 Axes>"
      ]
     },
     "metadata": {},
     "output_type": "display_data"
    }
   ],
   "source": [
    "# summarize history for loss\n",
    "plt.plot(average_loss_accross_kfold)\n",
    "plt.plot(average_validation_loss_accross_kfold)\n",
    "plt.title('Convolutional Neural Network Loss (cbow)')\n",
    "plt.ylabel('loss')\n",
    "plt.xlabel('epoch')\n",
    "plt.legend(['Train', 'Validation'], loc='upper left')\n",
    "plt.savefig(\"../outputs/Convolutional_neural_network__cbow_loss.eps\", format='eps')\n",
    "plt.show()"
   ]
  }
 ],
 "metadata": {
  "kernelspec": {
   "display_name": "Python 3.9.6 64-bit",
   "language": "python",
   "name": "python3"
  },
  "language_info": {
   "codemirror_mode": {
    "name": "ipython",
    "version": 3
   },
   "file_extension": ".py",
   "mimetype": "text/x-python",
   "name": "python",
   "nbconvert_exporter": "python",
   "pygments_lexer": "ipython3",
   "version": "3.9.6"
  },
  "orig_nbformat": 4,
  "vscode": {
   "interpreter": {
    "hash": "81794d4967e6c3204c66dcd87b604927b115b27c00565d3d43f05ba2f3a2cb0d"
   }
  }
 },
 "nbformat": 4,
 "nbformat_minor": 2
}
