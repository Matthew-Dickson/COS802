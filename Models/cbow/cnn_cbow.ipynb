{
 "cells": [
  {
   "cell_type": "code",
   "execution_count": 45,
   "metadata": {},
   "outputs": [],
   "source": [
    "from sklearn.model_selection import train_test_split, KFold\n",
    "import numpy as np\n",
    "import pandas as pd\n",
    "from sklearn.feature_extraction.text import TfidfVectorizer\n",
    "import pandas as pd\n",
    "from sklearn.preprocessing import LabelBinarizer\n",
    "import tensorflow as tf\n",
    "import matplotlib.pyplot as plt\n",
    "import time\n",
    "from sklearn.metrics import accuracy_score\n",
    "from sklearn.metrics import precision_recall_fscore_support as score\n",
    "from keras.models import Model\n",
    "from keras.layers import Input, Convolution1D, Flatten, Dense, Dropout, Embedding\n",
    "from keras.optimizers import Adam,SGD\n",
    "import tensorflow as tf\n",
    "import nltk \n",
    "from gensim.models import Word2Vec\n",
    "from nltk.tokenize import sent_tokenize, word_tokenize"
   ]
  },
  {
   "cell_type": "code",
   "execution_count": 46,
   "metadata": {},
   "outputs": [],
   "source": [
    "#nltk.download() "
   ]
  },
  {
   "cell_type": "code",
   "execution_count": 47,
   "metadata": {},
   "outputs": [],
   "source": [
    "#Hyper Parameters\n",
    "FILE_NAME = \"../../Data/processed_data.csv\"\n",
    "DENSE_LAYER_SIZE =256\n",
    "BATCH_SIZE = 32\n",
    "EPOCH_LENGTH = 10\n",
    "VALIDATION_PERCENTAGE = 0.1\n",
    "TEST_SIZE_PERCENTAGE = 0.2\n",
    "NUMBER_K_FOLDS = 3\n",
    "LEARNING_RATE = 0.1\n",
    "VERBOSE = 1\n",
    "HIDDEN_ACTIVATION_FUNCTION = 'relu'\n",
    "OUTPUT_ACTIVATION_FUNCTION = 'softmax'\n",
    "LOSS_FUNCTION = 'categorical_crossentropy'\n",
    "METRICS=['accuracy']\n",
    "Y_LABEL_NAME=\"author\"\n",
    "X_LABEL_NAME=\"text\""
   ]
  },
  {
   "cell_type": "code",
   "execution_count": 48,
   "metadata": {},
   "outputs": [],
   "source": [
    "#Defining model\n",
    "def define_model(input_size, output_size, verbose = True, dense_layer_size = 50,\n",
    "                 hidden_activation_fn = 'relu', output_activation_fn='softmax',\n",
    "                 learning = 0.0005, loss_function = 'categorical_crossentropy', metrics = ['accuracy']):\n",
    "    \n",
    "    inputs = Input(shape = (input_size,1))\n",
    "    dense1 = Convolution1D(filters = 100, kernel_size = 3, activation=hidden_activation_fn)(inputs)\n",
    "    flat1 = Flatten()(dense1)\n",
    "\n",
    "    output = Dense(units=output_size, activation=output_activation_fn)(flat1)\n",
    "  \n",
    "    \n",
    "    # Create model\n",
    "    model = Model(inputs = [inputs], outputs = [output])\n",
    "    \n",
    "    # Compile model\n",
    "    model.compile(loss=loss_function, optimizer = SGD(learning_rate = learning), metrics=metrics)\n",
    "    \n",
    "    if verbose:\n",
    "        print(model.summary())\n",
    "\n",
    "    return model"
   ]
  },
  {
   "cell_type": "code",
   "execution_count": 49,
   "metadata": {},
   "outputs": [],
   "source": [
    "#Read data\n",
    "data = pd.read_csv(FILE_NAME)"
   ]
  },
  {
   "cell_type": "code",
   "execution_count": 50,
   "metadata": {},
   "outputs": [],
   "source": [
    "from nltk.tokenize import RegexpTokenizer\n",
    "\n",
    "tokenizer = RegexpTokenizer(r'\\w+') #"
   ]
  },
  {
   "cell_type": "code",
   "execution_count": 51,
   "metadata": {},
   "outputs": [
    {
     "name": "stdout",
     "output_type": "stream",
     "text": [
      "Original doc:  This process, however, afforded me no means of ascertaining the dimensions of my dungeon; as I might make its circuit, and return to the point whence I set out, without being aware of the fact; so perfectly uniform seemed the wall.\n",
      "Tokenized doc:  ['this', 'process', 'however', 'afforded', 'me', 'no', 'means', 'of', 'ascertaining', 'the', 'dimensions', 'of', 'my', 'dungeon', 'as', 'i', 'might', 'make', 'its', 'circuit', 'and', 'return', 'to', 'the', 'point', 'whence', 'i', 'set', 'out', 'without', 'being', 'aware', 'of', 'the', 'fact', 'so', 'perfectly', 'uniform', 'seemed', 'the', 'wall']\n",
      "Num Sentences:  20019\n"
     ]
    }
   ],
   "source": [
    "documents = data[X_LABEL_NAME]\n",
    "\n",
    "# Go through all the documents and tokenize them by words\n",
    "data_gensim = []\n",
    "for doc in documents:\n",
    "    # We are training on sentences\n",
    "    for sentence in sent_tokenize(doc):\n",
    "        tokens = []\n",
    "        # We want only lower case\n",
    "        for word in tokenizer.tokenize(sentence): # We are using the new tokeniser here\n",
    "            tokens.append(word.lower())\n",
    "        data_gensim .append(tokens)\n",
    "\n",
    "# The result\n",
    "print(\"Original doc: \", documents[0])\n",
    "print(\"Tokenized doc: \", data_gensim[0])\n",
    "print(\"Num Sentences: \", len(data_gensim))"
   ]
  },
  {
   "cell_type": "code",
   "execution_count": 52,
   "metadata": {},
   "outputs": [],
   "source": [
    "tokenized_data = documents"
   ]
  },
  {
   "cell_type": "code",
   "execution_count": 53,
   "metadata": {},
   "outputs": [],
   "source": [
    "EMB_DIM = 300\n",
    "w2v = Word2Vec(tokenized_data,vector_size=EMB_DIM,window=5,min_count=3,negative=15)"
   ]
  },
  {
   "cell_type": "code",
   "execution_count": 54,
   "metadata": {},
   "outputs": [],
   "source": [
    "word_vectors = w2v.wv"
   ]
  },
  {
   "cell_type": "code",
   "execution_count": 55,
   "metadata": {},
   "outputs": [],
   "source": [
    "# Helper function to transform a document into a mean of the word vectors. \n",
    "\n",
    "# Note!! You should add your code in this function to implement Q1-5\n",
    "def embedding_transform(documents_tokenized, w2v_model, embedding_size, transform_type='mean'):\n",
    "    transformed_docs = []\n",
    "    for words in documents_tokenized:\n",
    "        transformed_doc = []\n",
    "        for w in words:\n",
    "            if w in w2v_model:\n",
    "                transformed_doc.append(w2v_model[w])\n",
    "            else:\n",
    "                transformed_doc.append(np.zeros(embedding_size)) ## Add a default 0 vector for unknown words\n",
    "        \n",
    "        # How do you transform to a document? Put your answer in here. \n",
    "        if  transform_type == 'mean':\n",
    "            transformed_doc = np.mean(transformed_doc, axis=0)\n",
    "        transformed_docs.append(transformed_doc)\n",
    "    output = np.array(transformed_docs)\n",
    "    return output"
   ]
  },
  {
   "cell_type": "code",
   "execution_count": 56,
   "metadata": {},
   "outputs": [],
   "source": [
    "#Get corpus and y label\n",
    "text = data[X_LABEL_NAME]\n",
    "author = data[Y_LABEL_NAME]"
   ]
  },
  {
   "cell_type": "code",
   "execution_count": 57,
   "metadata": {},
   "outputs": [],
   "source": [
    "#Split data\n",
    "text_train, text_test, author_train, author_test = train_test_split(text, author, test_size = TEST_SIZE_PERCENTAGE, random_state = 5)"
   ]
  },
  {
   "cell_type": "code",
   "execution_count": 58,
   "metadata": {},
   "outputs": [],
   "source": [
    "X_train= embedding_transform(text_train, word_vectors, EMB_DIM, transform_type='mean')"
   ]
  },
  {
   "cell_type": "code",
   "execution_count": 59,
   "metadata": {},
   "outputs": [],
   "source": [
    "X_test= embedding_transform(text_test, word_vectors, EMB_DIM, transform_type='mean')"
   ]
  },
  {
   "cell_type": "code",
   "execution_count": 60,
   "metadata": {},
   "outputs": [],
   "source": [
    "\n",
    "#Get input and output dimensions\n",
    "input_size = X_train.shape[1]\n",
    "output_size = len(author.unique())"
   ]
  },
  {
   "cell_type": "code",
   "execution_count": 61,
   "metadata": {},
   "outputs": [],
   "source": [
    "# One hot encode y labels\n",
    "author_lb = LabelBinarizer()\n",
    "author_lb.fit(author_train)\n",
    "author_train_hot = author_lb.transform(author_train)\n",
    "author_test_hot = author_lb.transform(author_test)"
   ]
  },
  {
   "cell_type": "code",
   "execution_count": 62,
   "metadata": {},
   "outputs": [
    {
     "name": "stdout",
     "output_type": "stream",
     "text": [
      "(15663, 300)\n",
      "(3916, 300)\n",
      "(15663,)\n",
      "(3916,)\n"
     ]
    }
   ],
   "source": [
    "print(np.shape(X_train))\n",
    "print(np.shape(X_test))\n",
    "print(np.shape(author_train))\n",
    "print(np.shape(author_test))"
   ]
  },
  {
   "cell_type": "code",
   "execution_count": 63,
   "metadata": {},
   "outputs": [],
   "source": [
    "# X_train = X_train[:,None]\n",
    "# X_test = X_test[:,None]\n",
    "\n",
    "X_train = X_train[:None,]\n",
    "X_test = X_test[:None,]"
   ]
  },
  {
   "cell_type": "code",
   "execution_count": 64,
   "metadata": {},
   "outputs": [
    {
     "name": "stdout",
     "output_type": "stream",
     "text": [
      "(15663, 300)\n",
      "(3916, 300)\n"
     ]
    }
   ],
   "source": [
    "print(np.shape(X_train))\n",
    "print(np.shape(X_test))"
   ]
  },
  {
   "cell_type": "code",
   "execution_count": 65,
   "metadata": {},
   "outputs": [],
   "source": [
    "# X_train = np.reshape(X_train,( -1,23230,1))\n",
    "# X_test= np.reshape(X_test,( -1,23230,1))\n",
    "\n",
    "# X_train = np.reshape(X_train,( -1,1,23230))\n",
    "# X_test= np.reshape(X_test,( -1,1,23230))"
   ]
  },
  {
   "cell_type": "code",
   "execution_count": 66,
   "metadata": {},
   "outputs": [
    {
     "name": "stdout",
     "output_type": "stream",
     "text": [
      "Run: 1\n",
      "Epoch 1/10\n",
      "294/294 [==============================] - 2s 5ms/step - loss: 1.0903 - accuracy: 0.3983 - val_loss: 1.0903 - val_accuracy: 0.3962\n",
      "Epoch 2/10\n",
      "294/294 [==============================] - 1s 5ms/step - loss: 1.0889 - accuracy: 0.4004 - val_loss: 1.0889 - val_accuracy: 0.3962\n",
      "Epoch 3/10\n",
      "294/294 [==============================] - 1s 5ms/step - loss: 1.0870 - accuracy: 0.3992 - val_loss: 1.0937 - val_accuracy: 0.3962\n",
      "Epoch 4/10\n",
      "294/294 [==============================] - 1s 5ms/step - loss: 1.0856 - accuracy: 0.4011 - val_loss: 1.0884 - val_accuracy: 0.3952\n",
      "Epoch 5/10\n",
      "294/294 [==============================] - 1s 5ms/step - loss: 1.0844 - accuracy: 0.4019 - val_loss: 1.0844 - val_accuracy: 0.3962\n",
      "Epoch 6/10\n",
      "294/294 [==============================] - 1s 5ms/step - loss: 1.0829 - accuracy: 0.4002 - val_loss: 1.0890 - val_accuracy: 0.3962\n",
      "Epoch 7/10\n",
      "294/294 [==============================] - 1s 5ms/step - loss: 1.0805 - accuracy: 0.4017 - val_loss: 1.0821 - val_accuracy: 0.3962\n",
      "Epoch 8/10\n",
      "294/294 [==============================] - 1s 5ms/step - loss: 1.0785 - accuracy: 0.4063 - val_loss: 1.0780 - val_accuracy: 0.3952\n",
      "Epoch 9/10\n",
      "294/294 [==============================] - 1s 5ms/step - loss: 1.0756 - accuracy: 0.4098 - val_loss: 1.0753 - val_accuracy: 0.3943\n",
      "Epoch 10/10\n",
      "294/294 [==============================] - 1s 5ms/step - loss: 1.0741 - accuracy: 0.4191 - val_loss: 1.0700 - val_accuracy: 0.4000\n",
      "123/123 [==============================] - 0s 2ms/step\n",
      "Run: 2\n",
      "Epoch 1/10\n",
      "294/294 [==============================] - 2s 5ms/step - loss: 1.0891 - accuracy: 0.3996 - val_loss: 1.0912 - val_accuracy: 0.3962\n",
      "Epoch 2/10\n",
      "294/294 [==============================] - 1s 5ms/step - loss: 1.0873 - accuracy: 0.4025 - val_loss: 1.0886 - val_accuracy: 0.3962\n",
      "Epoch 3/10\n",
      "294/294 [==============================] - 1s 5ms/step - loss: 1.0863 - accuracy: 0.4019 - val_loss: 1.0858 - val_accuracy: 0.3962\n",
      "Epoch 4/10\n",
      "294/294 [==============================] - 1s 5ms/step - loss: 1.0856 - accuracy: 0.4013 - val_loss: 1.0861 - val_accuracy: 0.3962\n",
      "Epoch 5/10\n",
      "294/294 [==============================] - 1s 5ms/step - loss: 1.0849 - accuracy: 0.4024 - val_loss: 1.0860 - val_accuracy: 0.3990\n",
      "Epoch 6/10\n",
      "294/294 [==============================] - 1s 5ms/step - loss: 1.0820 - accuracy: 0.4045 - val_loss: 1.0828 - val_accuracy: 0.3962\n",
      "Epoch 7/10\n",
      "294/294 [==============================] - 1s 5ms/step - loss: 1.0810 - accuracy: 0.4058 - val_loss: 1.0816 - val_accuracy: 0.4230\n",
      "Epoch 8/10\n",
      "294/294 [==============================] - 1s 5ms/step - loss: 1.0785 - accuracy: 0.4085 - val_loss: 1.0807 - val_accuracy: 0.3962\n",
      "Epoch 9/10\n",
      "294/294 [==============================] - 1s 5ms/step - loss: 1.0776 - accuracy: 0.4082 - val_loss: 1.0770 - val_accuracy: 0.4048\n",
      "Epoch 10/10\n",
      "294/294 [==============================] - 1s 5ms/step - loss: 1.0751 - accuracy: 0.4117 - val_loss: 1.0744 - val_accuracy: 0.4364\n",
      "123/123 [==============================] - 0s 2ms/step\n",
      "Run: 3\n",
      "Epoch 1/10\n",
      "294/294 [==============================] - 2s 5ms/step - loss: 1.0905 - accuracy: 0.4007 - val_loss: 1.0841 - val_accuracy: 0.4105\n",
      "Epoch 2/10\n",
      "294/294 [==============================] - 1s 5ms/step - loss: 1.0877 - accuracy: 0.4025 - val_loss: 1.0870 - val_accuracy: 0.4105\n",
      "Epoch 3/10\n",
      "294/294 [==============================] - 1s 5ms/step - loss: 1.0865 - accuracy: 0.4037 - val_loss: 1.0837 - val_accuracy: 0.4105\n",
      "Epoch 4/10\n",
      "294/294 [==============================] - 1s 5ms/step - loss: 1.0850 - accuracy: 0.4026 - val_loss: 1.0815 - val_accuracy: 0.4105\n",
      "Epoch 5/10\n",
      "294/294 [==============================] - 1s 5ms/step - loss: 1.0829 - accuracy: 0.4061 - val_loss: 1.0838 - val_accuracy: 0.4105\n",
      "Epoch 6/10\n",
      "294/294 [==============================] - 1s 5ms/step - loss: 1.0810 - accuracy: 0.4056 - val_loss: 1.0786 - val_accuracy: 0.4105\n",
      "Epoch 7/10\n",
      "294/294 [==============================] - 1s 5ms/step - loss: 1.0785 - accuracy: 0.4058 - val_loss: 1.0754 - val_accuracy: 0.4105\n",
      "Epoch 8/10\n",
      "294/294 [==============================] - 1s 5ms/step - loss: 1.0765 - accuracy: 0.4123 - val_loss: 1.0722 - val_accuracy: 0.4182\n",
      "Epoch 9/10\n",
      "294/294 [==============================] - 1s 5ms/step - loss: 1.0740 - accuracy: 0.4128 - val_loss: 1.0700 - val_accuracy: 0.4096\n",
      "Epoch 10/10\n",
      "294/294 [==============================] - 1s 5ms/step - loss: 1.0713 - accuracy: 0.4178 - val_loss: 1.0656 - val_accuracy: 0.4163\n",
      "123/123 [==============================] - 0s 2ms/step\n",
      "Test Accuracy: [0.4124106230847804, 0.445097037793667, 0.41419816138917265]\n",
      "Ave. Precision: [0.4095898954202396, 0.4491486481571011, 0.4714806878525544]\n",
      "Ave. Recall: [0.4124106230847804, 0.44509703779366705, 0.41419816138917265]\n",
      "Ave. F1 Score: [0.2563263164019689, 0.37193436973428007, 0.2591864497051447]\n"
     ]
    }
   ],
   "source": [
    "# Sets seed\n",
    "np.random.seed(28)\n",
    "kf = KFold(n_splits = NUMBER_K_FOLDS)\n",
    "\n",
    "test_accuracy_list = []\n",
    "prec_list = []\n",
    "recall_list = []\n",
    "f1_list = []\n",
    "training_time_list = []\n",
    "prediction_time_list = []\n",
    "full_history =[]\n",
    "\n",
    "run = 0\n",
    "\n",
    "\n",
    "for train_inds, _ in kf.split(X_train):\n",
    "    run += 1\n",
    "    print('Run:', run)\n",
    "       \n",
    "    train_x = np.array([X_train[i] for i in train_inds])\n",
    "    train_y = np.array([author_train_hot[i] for i in train_inds])\n",
    "       \n",
    "    t0 = time.time()\n",
    "    # Fit model\n",
    "    cnn_model = define_model(input_size= input_size, output_size= output_size, verbose = False,\n",
    "                      dense_layer_size = DENSE_LAYER_SIZE, hidden_activation_fn = HIDDEN_ACTIVATION_FUNCTION,\n",
    "                      output_activation_fn = OUTPUT_ACTIVATION_FUNCTION, learning=LEARNING_RATE, loss_function = LOSS_FUNCTION, metrics=METRICS)\n",
    "\n",
    "    histroy = cnn_model.fit(train_x, train_y, epochs=EPOCH_LENGTH, batch_size=BATCH_SIZE, verbose = VERBOSE,validation_split = VALIDATION_PERCENTAGE)\n",
    "  \n",
    "    t1 = time.time()\n",
    "    \n",
    "    # Predict values for test set\n",
    "    author_pred1 = cnn_model.predict(X_test)\n",
    "    author_pred1 = author_lb.inverse_transform(author_pred1)\n",
    "\n",
    "    t2 = time.time()\n",
    "\n",
    "    # Evaluate\n",
    "    test_accuracy = accuracy_score(author_test, author_pred1)\n",
    "    precision, recall, f1, support = score(author_test, author_pred1)\n",
    "    ave_precision = np.average(precision, weights = support/np.sum(support))\n",
    "    ave_recall = np.average(recall, weights = support/np.sum(support))\n",
    "    ave_f1 = np.average(f1, weights = support/np.sum(support))\n",
    "    training_time = (t1 - t0)\n",
    "    prediction_time = (t2 - t1)\n",
    "    \n",
    "    test_accuracy_list.append(test_accuracy)\n",
    "    prec_list.append(ave_precision)\n",
    "    recall_list.append(ave_recall)\n",
    "    f1_list.append(ave_f1)\n",
    "    training_time_list.append(training_time)\n",
    "    prediction_time_list.append(prediction_time)\n",
    "    full_history.append(histroy)\n",
    "\n",
    "print(\"Test Accuracy:\", test_accuracy_list)\n",
    "print(\"Ave. Precision:\", prec_list)\n",
    "print(\"Ave. Recall:\", recall_list)\n",
    "print(\"Ave. F1 Score:\", f1_list)"
   ]
  },
  {
   "cell_type": "code",
   "execution_count": 67,
   "metadata": {},
   "outputs": [
    {
     "name": "stdout",
     "output_type": "stream",
     "text": [
      "Average Accuracy across K-folds: 0.42390194075587334\n",
      "Average Precision across K-folds: 0.4434064104766317\n",
      "Average Recall across K-folds: 0.42390194075587334\n",
      "Average F1 Score across K-folds: 0.29581571194713124\n",
      "Average Training Time across K-folds: 14.47100019454956 seconds\n",
      "Prediction Time across K-folds: 0.3339998722076416 seconds\n"
     ]
    }
   ],
   "source": [
    "#Get averages for kfold runs\n",
    "mean_accuracy_across_kfold = np.mean(test_accuracy_list)\n",
    "mean_percision_across_kfold = np.mean(prec_list)\n",
    "mean_recall_across_kfold = np.mean(recall_list)\n",
    "mean_f1_across_kfold = np.mean(f1_list)\n",
    "\n",
    "\n",
    "print(\"Average Accuracy across K-folds:\", mean_accuracy_across_kfold)\n",
    "print(\"Average Precision across K-folds:\", mean_percision_across_kfold)\n",
    "print(\"Average Recall across K-folds:\", mean_recall_across_kfold)\n",
    "print(\"Average F1 Score across K-folds:\", mean_f1_across_kfold)\n",
    "print(\"Average Training Time across K-folds:\", (t1 - t0), \"seconds\")\n",
    "print(\"Prediction Time across K-folds:\", (t2 - t1), \"seconds\")"
   ]
  },
  {
   "cell_type": "code",
   "execution_count": 68,
   "metadata": {},
   "outputs": [],
   "source": [
    "average_test_loss_accross_kfold = []\n",
    "average_validation_loss_accross_kfold = []\n",
    "average_test_accuracy_accross_kfold = []\n",
    "average_validation_accuracy_accross_kfold = []\n",
    "\n",
    "for i in range(len(full_history)):\n",
    "    average_test_loss_accross_kfold.append(full_history[i].history['loss'])\n",
    "    average_validation_loss_accross_kfold.append(full_history[i].history['val_loss'])\n",
    "\n",
    "    average_test_accuracy_accross_kfold.append(full_history[i].history['accuracy'])\n",
    "    average_validation_accuracy_accross_kfold.append(full_history[i].history['val_accuracy'])\n",
    "\n",
    "average_loss_accross_kfold = np.mean(average_test_loss_accross_kfold,axis=0)\n",
    "average_validation_loss_accross_kfold = np.mean(average_validation_loss_accross_kfold,axis=0)\n",
    "\n",
    "average_accuracy_accross_kfold = np.mean(average_test_accuracy_accross_kfold,axis=0)\n",
    "average_validation_accuracy_accross_kfold = np.mean(average_validation_accuracy_accross_kfold,axis=0)"
   ]
  },
  {
   "cell_type": "code",
   "execution_count": 69,
   "metadata": {},
   "outputs": [
    {
     "name": "stderr",
     "output_type": "stream",
     "text": [
      "The PostScript backend does not support transparency; partially transparent artists will be rendered opaque.\n"
     ]
    },
    {
     "data": {
      "image/png": "[encoded data removed]",
      "text/plain": [
       "<Figure size 640x480 with 1 Axes>"
      ]
     },
     "metadata": {},
     "output_type": "display_data"
    }
   ],
   "source": [
    "# summarize history for accuracy\n",
    "plt.plot(average_accuracy_accross_kfold)\n",
    "plt.plot(average_validation_accuracy_accross_kfold)\n",
    "plt.title('Convolutional Neural Network Accuracy (cbow)')\n",
    "plt.ylabel('accuracy')\n",
    "plt.xlabel('epoch')\n",
    "plt.legend(['Train', 'Validation'], loc='upper left')\n",
    "plt.savefig(\"../outputs/Convolutional_neural_network_cbow_acc.eps\", format='eps')\n",
    "plt.show()"
   ]
  },
  {
   "cell_type": "code",
   "execution_count": 70,
   "metadata": {},
   "outputs": [
    {
     "name": "stderr",
     "output_type": "stream",
     "text": [
      "The PostScript backend does not support transparency; partially transparent artists will be rendered opaque.\n"
     ]
    },
    {
     "data": {
      "image/png": "[encoded data removed]",
      "text/plain": [
       "<Figure size 640x480 with 1 Axes>"
      ]
     },
     "metadata": {},
     "output_type": "display_data"
    }
   ],
   "source": [
    "# summarize history for loss\n",
    "plt.plot(average_loss_accross_kfold)\n",
    "plt.plot(average_validation_loss_accross_kfold)\n",
    "plt.title('Convolutional Neural Network Loss (cbow)')\n",
    "plt.ylabel('loss')\n",
    "plt.xlabel('epoch')\n",
    "plt.legend(['Train', 'Validation'], loc='upper left')\n",
    "plt.savefig(\"../outputs/Convolutional_neural_network__cbow_loss.eps\", format='eps')\n",
    "plt.show()"
   ]
  }
 ],
 "metadata": {
  "kernelspec": {
   "display_name": "Python 3.9.6 64-bit",
   "language": "python",
   "name": "python3"
  },
  "language_info": {
   "codemirror_mode": {
    "name": "ipython",
    "version": 3
   },
   "file_extension": ".py",
   "mimetype": "text/x-python",
   "name": "python",
   "nbconvert_exporter": "python",
   "pygments_lexer": "ipython3",
   "version": "3.9.6"
  },
  "orig_nbformat": 4,
  "vscode": {
   "interpreter": {
    "hash": "81794d4967e6c3204c66dcd87b604927b115b27c00565d3d43f05ba2f3a2cb0d"
   }
  }
 },
 "nbformat": 4,
 "nbformat_minor": 2
}
