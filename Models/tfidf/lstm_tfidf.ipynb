{
 "cells": [
  {
   "cell_type": "code",
   "execution_count": 113,
   "metadata": {},
   "outputs": [],
   "source": [
    "from sklearn.model_selection import train_test_split, KFold\n",
    "import numpy as np\n",
    "import pandas as pd\n",
    "from sklearn.feature_extraction.text import TfidfVectorizer\n",
    "import pandas as pd\n",
    "from sklearn.preprocessing import LabelBinarizer\n",
    "import tensorflow as tf\n",
    "import matplotlib.pyplot as plt\n",
    "import time\n",
    "from sklearn.metrics import accuracy_score\n",
    "from sklearn.metrics import precision_recall_fscore_support as score\n",
    "from keras.models import Model\n",
    "from keras.layers import Input, LSTM, Flatten, Dense, Dropout, Embedding\n",
    "from keras.optimizers import Adam,SGD\n",
    "import tensorflow as tf"
   ]
  },
  {
   "cell_type": "code",
   "execution_count": 114,
   "metadata": {},
   "outputs": [],
   "source": [
    "#Hyper Parameters\n",
    "FILE_NAME = \"../../Data/processed_data.csv\"\n",
    "LSTM_LAYER_SIZE =50\n",
    "BATCH_SIZE = 32\n",
    "EPOCH_LENGTH = 10\n",
    "VALIDATION_PERCENTAGE = 0.1\n",
    "TEST_SIZE_PERCENTAGE = 0.2\n",
    "NUMBER_K_FOLDS = 3\n",
    "LEARNING_RATE = 0.2\n",
    "VERBOSE = 1\n",
    "HIDDEN_ACTIVATION_FUNCTION = 'relu'\n",
    "OUTPUT_ACTIVATION_FUNCTION = 'softmax'\n",
    "LOSS_FUNCTION = 'categorical_crossentropy'\n",
    "METRICS=['accuracy']\n",
    "Y_LABEL_NAME=\"author\"\n",
    "X_LABEL_NAME=\"text\""
   ]
  },
  {
   "cell_type": "code",
   "execution_count": 115,
   "metadata": {},
   "outputs": [],
   "source": [
    "#Defining model\n",
    "def define_model(input_size, output_size, verbose = True, lstm_layer_size = 50,\n",
    "                 hidden_activation_fn = 'relu', output_activation_fn='softmax',\n",
    "                 learning = 0.0005, loss_function = 'categorical_crossentropy', metrics = ['accuracy']):\n",
    "    \n",
    "    inputs = Input(shape = (1,input_size))\n",
    "    lstm = LSTM(lstm_layer_size, activation=hidden_activation_fn)(inputs)\n",
    "    flat1 = Flatten()(lstm)\n",
    "\n",
    "    output = Dense(units=output_size, activation=output_activation_fn)(flat1)\n",
    "  \n",
    "    \n",
    "    # Create model\n",
    "    model = Model(inputs = [inputs], outputs = [output])\n",
    "    \n",
    "    # Compile model\n",
    "    model.compile(loss=loss_function, optimizer = SGD(learning_rate = learning), metrics=metrics)\n",
    "    \n",
    "    if verbose:\n",
    "        print(model.summary())\n",
    "\n",
    "    return model"
   ]
  },
  {
   "cell_type": "code",
   "execution_count": 116,
   "metadata": {},
   "outputs": [],
   "source": [
    "#Read data\n",
    "data = pd.read_csv(FILE_NAME)"
   ]
  },
  {
   "cell_type": "code",
   "execution_count": 117,
   "metadata": {},
   "outputs": [],
   "source": [
    "#Get corpus and y label\n",
    "text = data[X_LABEL_NAME]\n",
    "author = data[Y_LABEL_NAME]"
   ]
  },
  {
   "cell_type": "code",
   "execution_count": 118,
   "metadata": {},
   "outputs": [],
   "source": [
    "#Split data\n",
    "text_train, text_test, author_train, author_test = train_test_split(text, author, test_size = TEST_SIZE_PERCENTAGE, random_state = 5)"
   ]
  },
  {
   "cell_type": "code",
   "execution_count": 119,
   "metadata": {},
   "outputs": [],
   "source": [
    "#Transform data into tfidf representation\n",
    "tfidf = TfidfVectorizer(binary=False)\n",
    "X_train = tfidf.fit_transform(text_train).astype('float32')\n",
    "X_test = tfidf.transform(text_test).astype('float32')\n",
    "\n",
    "\n",
    "X_train = X_train.toarray()\n",
    "X_test = X_test.toarray()\n",
    "\n",
    "#Get input and output dimensions\n",
    "input_size = X_train.shape[1]\n",
    "output_size = len(author.unique())"
   ]
  },
  {
   "cell_type": "code",
   "execution_count": 120,
   "metadata": {},
   "outputs": [],
   "source": [
    "# One hot encode y labels\n",
    "author_lb = LabelBinarizer()\n",
    "author_lb.fit(author_train)\n",
    "author_train_hot = author_lb.transform(author_train)\n",
    "author_test_hot = author_lb.transform(author_test)"
   ]
  },
  {
   "cell_type": "code",
   "execution_count": 121,
   "metadata": {},
   "outputs": [
    {
     "name": "stdout",
     "output_type": "stream",
     "text": [
      "(15663, 23230)\n",
      "(3916, 23230)\n",
      "(15663,)\n",
      "(3916,)\n"
     ]
    }
   ],
   "source": [
    "print(np.shape(X_train))\n",
    "print(np.shape(X_test))\n",
    "print(np.shape(author_train))\n",
    "print(np.shape(author_test))"
   ]
  },
  {
   "cell_type": "code",
   "execution_count": 122,
   "metadata": {},
   "outputs": [],
   "source": [
    "X_train = X_train[:,None]\n",
    "X_test = X_test[:,None]\n"
   ]
  },
  {
   "cell_type": "code",
   "execution_count": 123,
   "metadata": {},
   "outputs": [
    {
     "name": "stdout",
     "output_type": "stream",
     "text": [
      "(15663, 1, 23230)\n",
      "(3916, 1, 23230)\n"
     ]
    }
   ],
   "source": [
    "print(np.shape(X_train))\n",
    "print(np.shape(X_test))"
   ]
  },
  {
   "cell_type": "code",
   "execution_count": 124,
   "metadata": {},
   "outputs": [],
   "source": [
    "X_train = np.reshape(X_train,( -1,1,23230))\n",
    "X_test= np.reshape(X_test,( -1,1,23230))\n"
   ]
  },
  {
   "cell_type": "code",
   "execution_count": 125,
   "metadata": {},
   "outputs": [
    {
     "name": "stdout",
     "output_type": "stream",
     "text": [
      "Run: 1\n",
      "Epoch 1/10\n",
      "294/294 [==============================] - 8s 19ms/step - loss: 1.0892 - accuracy: 0.3997 - val_loss: 1.0883 - val_accuracy: 0.3962\n",
      "Epoch 2/10\n",
      "294/294 [==============================] - 5s 18ms/step - loss: 1.0857 - accuracy: 0.4006 - val_loss: 1.0848 - val_accuracy: 0.3962\n",
      "Epoch 3/10\n",
      "294/294 [==============================] - 5s 18ms/step - loss: 1.0812 - accuracy: 0.4006 - val_loss: 1.0838 - val_accuracy: 0.3962\n",
      "Epoch 4/10\n",
      "294/294 [==============================] - 5s 18ms/step - loss: 1.0746 - accuracy: 0.4006 - val_loss: 1.0720 - val_accuracy: 0.3962\n",
      "Epoch 5/10\n",
      "294/294 [==============================] - 5s 18ms/step - loss: 1.0629 - accuracy: 0.4106 - val_loss: 1.0586 - val_accuracy: 0.4057\n",
      "Epoch 6/10\n",
      "294/294 [==============================] - 5s 18ms/step - loss: 1.0420 - accuracy: 0.4442 - val_loss: 1.0348 - val_accuracy: 0.4411\n",
      "Epoch 7/10\n",
      "294/294 [==============================] - 5s 18ms/step - loss: 1.0043 - accuracy: 0.5142 - val_loss: 0.9920 - val_accuracy: 0.6153\n",
      "Epoch 8/10\n",
      "294/294 [==============================] - 5s 18ms/step - loss: 0.9383 - accuracy: 0.6068 - val_loss: 0.9249 - val_accuracy: 0.5464\n",
      "Epoch 9/10\n",
      "294/294 [==============================] - 5s 18ms/step - loss: 0.8398 - accuracy: 0.6799 - val_loss: 0.8380 - val_accuracy: 0.6584\n",
      "Epoch 10/10\n",
      "294/294 [==============================] - 5s 18ms/step - loss: 0.7302 - accuracy: 0.7295 - val_loss: 0.7510 - val_accuracy: 0.7167\n",
      "123/123 [==============================] - 1s 6ms/step\n",
      "Run: 2\n",
      "Epoch 1/10\n",
      "294/294 [==============================] - 6s 18ms/step - loss: 1.0881 - accuracy: 0.4026 - val_loss: 1.0872 - val_accuracy: 0.3962\n",
      "Epoch 2/10\n",
      "294/294 [==============================] - 5s 18ms/step - loss: 1.0844 - accuracy: 0.4029 - val_loss: 1.0836 - val_accuracy: 0.3962\n",
      "Epoch 3/10\n",
      "294/294 [==============================] - 5s 18ms/step - loss: 1.0794 - accuracy: 0.4032 - val_loss: 1.0785 - val_accuracy: 0.3962\n",
      "Epoch 4/10\n",
      "294/294 [==============================] - 5s 18ms/step - loss: 1.0718 - accuracy: 0.4036 - val_loss: 1.0794 - val_accuracy: 0.3962\n",
      "Epoch 5/10\n",
      "294/294 [==============================] - 5s 18ms/step - loss: 1.0597 - accuracy: 0.4145 - val_loss: 1.0569 - val_accuracy: 0.4928\n",
      "Epoch 6/10\n",
      "294/294 [==============================] - 5s 18ms/step - loss: 1.0384 - accuracy: 0.4591 - val_loss: 1.0306 - val_accuracy: 0.4660\n",
      "Epoch 7/10\n",
      "294/294 [==============================] - 5s 18ms/step - loss: 1.0005 - accuracy: 0.5226 - val_loss: 0.9888 - val_accuracy: 0.5493\n",
      "Epoch 8/10\n",
      "294/294 [==============================] - 5s 18ms/step - loss: 0.9375 - accuracy: 0.5864 - val_loss: 0.9289 - val_accuracy: 0.5617\n",
      "Epoch 9/10\n",
      "294/294 [==============================] - 5s 18ms/step - loss: 0.8514 - accuracy: 0.6563 - val_loss: 0.8458 - val_accuracy: 0.6536\n",
      "Epoch 10/10\n",
      "294/294 [==============================] - 5s 18ms/step - loss: 0.7563 - accuracy: 0.7159 - val_loss: 0.7740 - val_accuracy: 0.7043\n",
      "123/123 [==============================] - 1s 5ms/step\n",
      "Run: 3\n",
      "Epoch 1/10\n",
      "294/294 [==============================] - 6s 19ms/step - loss: 1.0882 - accuracy: 0.4014 - val_loss: 1.0846 - val_accuracy: 0.4105\n",
      "Epoch 2/10\n",
      "294/294 [==============================] - 5s 19ms/step - loss: 1.0854 - accuracy: 0.4033 - val_loss: 1.0806 - val_accuracy: 0.4105\n",
      "Epoch 3/10\n",
      "294/294 [==============================] - 5s 18ms/step - loss: 1.0806 - accuracy: 0.4032 - val_loss: 1.0751 - val_accuracy: 0.4105\n",
      "Epoch 4/10\n",
      "294/294 [==============================] - 5s 18ms/step - loss: 1.0739 - accuracy: 0.4042 - val_loss: 1.0687 - val_accuracy: 0.4144\n",
      "Epoch 5/10\n",
      "294/294 [==============================] - 6s 22ms/step - loss: 1.0628 - accuracy: 0.4105 - val_loss: 1.0568 - val_accuracy: 0.4938\n",
      "Epoch 6/10\n",
      "294/294 [==============================] - 6s 21ms/step - loss: 1.0437 - accuracy: 0.4513 - val_loss: 1.0366 - val_accuracy: 0.4383\n",
      "Epoch 7/10\n",
      "294/294 [==============================] - 6s 22ms/step - loss: 1.0121 - accuracy: 0.4936 - val_loss: 0.9981 - val_accuracy: 0.5263\n",
      "Epoch 8/10\n",
      "294/294 [==============================] - 6s 21ms/step - loss: 0.9611 - accuracy: 0.5534 - val_loss: 0.9446 - val_accuracy: 0.5943\n",
      "Epoch 9/10\n",
      "294/294 [==============================] - 6s 21ms/step - loss: 0.8877 - accuracy: 0.6263 - val_loss: 0.8691 - val_accuracy: 0.6574\n",
      "Epoch 10/10\n",
      "294/294 [==============================] - 6s 21ms/step - loss: 0.7985 - accuracy: 0.6952 - val_loss: 0.8200 - val_accuracy: 0.6622\n",
      "123/123 [==============================] - 1s 8ms/step\n",
      "Test Accuracy: [0.7180796731358529, 0.7111848825331971, 0.6756894790602656]\n",
      "Ave. Precision: [0.7218020061832524, 0.7207877169208406, 0.7170524268863412]\n",
      "Ave. Recall: [0.718079673135853, 0.7111848825331972, 0.6756894790602657]\n",
      "Ave. F1 Score: [0.717690600356478, 0.7093816123315253, 0.6767079637179888]\n"
     ]
    }
   ],
   "source": [
    "# Sets seed\n",
    "np.random.seed(28)\n",
    "kf = KFold(n_splits = NUMBER_K_FOLDS)\n",
    "\n",
    "test_accuracy_list = []\n",
    "prec_list = []\n",
    "recall_list = []\n",
    "f1_list = []\n",
    "training_time_list = []\n",
    "prediction_time_list = []\n",
    "full_history =[]\n",
    "\n",
    "run = 0\n",
    "\n",
    "\n",
    "for train_inds, _ in kf.split(X_train):\n",
    "    run += 1\n",
    "    print('Run:', run)\n",
    "       \n",
    "    train_x = np.array([X_train[i] for i in train_inds])\n",
    "    train_y = np.array([author_train_hot[i] for i in train_inds])\n",
    "       \n",
    "    t0 = time.time()\n",
    "    # Fit model\n",
    "    lstm_model = define_model(input_size= input_size, output_size= output_size, verbose = False,\n",
    "                      lstm_layer_size = LSTM_LAYER_SIZE, hidden_activation_fn = HIDDEN_ACTIVATION_FUNCTION,\n",
    "                      output_activation_fn = OUTPUT_ACTIVATION_FUNCTION, learning=LEARNING_RATE, loss_function = LOSS_FUNCTION, metrics=METRICS)\n",
    "\n",
    "    histroy = lstm_model.fit(train_x, train_y, epochs=EPOCH_LENGTH, batch_size=BATCH_SIZE, verbose = VERBOSE,validation_split = VALIDATION_PERCENTAGE)\n",
    "  \n",
    "    t1 = time.time()\n",
    "    \n",
    "    # Predict values for test set\n",
    "    author_pred1 = lstm_model.predict(X_test)\n",
    "    author_pred1 = author_lb.inverse_transform(author_pred1)\n",
    "\n",
    "    t2 = time.time()\n",
    "\n",
    "    # Evaluate\n",
    "    test_accuracy = accuracy_score(author_test, author_pred1)\n",
    "    precision, recall, f1, support = score(author_test, author_pred1)\n",
    "    ave_precision = np.average(precision, weights = support/np.sum(support))\n",
    "    ave_recall = np.average(recall, weights = support/np.sum(support))\n",
    "    ave_f1 = np.average(f1, weights = support/np.sum(support))\n",
    "    training_time = (t1 - t0)\n",
    "    prediction_time = (t2 - t1)\n",
    "    \n",
    "    test_accuracy_list.append(test_accuracy)\n",
    "    prec_list.append(ave_precision)\n",
    "    recall_list.append(ave_recall)\n",
    "    f1_list.append(ave_f1)\n",
    "    training_time_list.append(training_time)\n",
    "    prediction_time_list.append(prediction_time)\n",
    "    full_history.append(histroy)\n",
    "\n",
    "print(\"Test Accuracy:\", test_accuracy_list)\n",
    "print(\"Ave. Precision:\", prec_list)\n",
    "print(\"Ave. Recall:\", recall_list)\n",
    "print(\"Ave. F1 Score:\", f1_list)"
   ]
  },
  {
   "cell_type": "code",
   "execution_count": 126,
   "metadata": {},
   "outputs": [
    {
     "name": "stdout",
     "output_type": "stream",
     "text": [
      "Average Accuracy across K-folds: 0.7016513449097719\n",
      "Average Precision across K-folds: 0.7198807166634781\n",
      "Average Recall across K-folds: 0.7016513449097719\n",
      "Average F1 Score across K-folds: 0.7012600588019974\n",
      "Average Training Time across K-folds: 60.45655632019043 seconds\n",
      "Prediction Time across K-folds: 1.1769981384277344 seconds\n"
     ]
    }
   ],
   "source": [
    "#Get averages for kfold runs\n",
    "mean_accuracy_across_kfold = np.mean(test_accuracy_list)\n",
    "mean_percision_across_kfold = np.mean(prec_list)\n",
    "mean_recall_across_kfold = np.mean(recall_list)\n",
    "mean_f1_across_kfold = np.mean(f1_list)\n",
    "\n",
    "\n",
    "print(\"Average Accuracy across K-folds:\", mean_accuracy_across_kfold)\n",
    "print(\"Average Precision across K-folds:\", mean_percision_across_kfold)\n",
    "print(\"Average Recall across K-folds:\", mean_recall_across_kfold)\n",
    "print(\"Average F1 Score across K-folds:\", mean_f1_across_kfold)\n",
    "print(\"Average Training Time across K-folds:\", (t1 - t0), \"seconds\")\n",
    "print(\"Prediction Time across K-folds:\", (t2 - t1), \"seconds\")"
   ]
  },
  {
   "cell_type": "code",
   "execution_count": 127,
   "metadata": {},
   "outputs": [],
   "source": [
    "average_test_loss_accross_kfold = []\n",
    "average_validation_loss_accross_kfold = []\n",
    "average_test_accuracy_accross_kfold = []\n",
    "average_validation_accuracy_accross_kfold = []\n",
    "\n",
    "for i in range(len(full_history)):\n",
    "    average_test_loss_accross_kfold.append(full_history[i].history['loss'])\n",
    "    average_validation_loss_accross_kfold.append(full_history[i].history['val_loss'])\n",
    "\n",
    "    average_test_accuracy_accross_kfold.append(full_history[i].history['accuracy'])\n",
    "    average_validation_accuracy_accross_kfold.append(full_history[i].history['val_accuracy'])\n",
    "\n",
    "average_loss_accross_kfold = np.mean(average_test_loss_accross_kfold,axis=0)\n",
    "average_validation_loss_accross_kfold = np.mean(average_validation_loss_accross_kfold,axis=0)\n",
    "\n",
    "average_accuracy_accross_kfold = np.mean(average_test_accuracy_accross_kfold,axis=0)\n",
    "average_validation_accuracy_accross_kfold = np.mean(average_validation_accuracy_accross_kfold,axis=0)"
   ]
  },
  {
   "cell_type": "code",
   "execution_count": 128,
   "metadata": {},
   "outputs": [
    {
     "name": "stderr",
     "output_type": "stream",
     "text": [
      "The PostScript backend does not support transparency; partially transparent artists will be rendered opaque.\n"
     ]
    },
    {
     "data": {
      "image/png": "[encoded data removed]",
      "text/plain": [
       "<Figure size 640x480 with 1 Axes>"
      ]
     },
     "metadata": {},
     "output_type": "display_data"
    }
   ],
   "source": [
    "# summarize history for accuracy\n",
    "plt.plot(average_accuracy_accross_kfold)\n",
    "plt.plot(average_validation_accuracy_accross_kfold)\n",
    "plt.title('LSTM Neural Network Accuracy ')\n",
    "plt.ylabel('accuracy')\n",
    "plt.xlabel('epoch')\n",
    "plt.legend(['Train', 'Validation'], loc='upper left')\n",
    "plt.savefig(\"../outputs/lstm_neural_network_tfidf_acc.eps\", format='eps')\n",
    "plt.show()"
   ]
  },
  {
   "cell_type": "code",
   "execution_count": 129,
   "metadata": {},
   "outputs": [
    {
     "name": "stderr",
     "output_type": "stream",
     "text": [
      "The PostScript backend does not support transparency; partially transparent artists will be rendered opaque.\n"
     ]
    },
    {
     "data": {
      "image/png": "[encoded data removed]",
      "text/plain": [
       "<Figure size 640x480 with 1 Axes>"
      ]
     },
     "metadata": {},
     "output_type": "display_data"
    }
   ],
   "source": [
    "# summarize history for loss\n",
    "plt.plot(average_loss_accross_kfold)\n",
    "plt.plot(average_validation_loss_accross_kfold)\n",
    "plt.title('LSTM Neural Network Loss')\n",
    "plt.ylabel('loss')\n",
    "plt.xlabel('epoch')\n",
    "plt.legend(['Train', 'Validation'], loc='upper left')\n",
    "plt.savefig(\"../outputs/lstm_neural_network__tfidf_loss.eps\", format='eps')\n",
    "plt.show()"
   ]
  }
 ],
 "metadata": {
  "kernelspec": {
   "display_name": "Python 3.9.6 64-bit",
   "language": "python",
   "name": "python3"
  },
  "language_info": {
   "codemirror_mode": {
    "name": "ipython",
    "version": 3
   },
   "file_extension": ".py",
   "mimetype": "text/x-python",
   "name": "python",
   "nbconvert_exporter": "python",
   "pygments_lexer": "ipython3",
   "version": "3.9.6"
  },
  "orig_nbformat": 4,
  "vscode": {
   "interpreter": {
    "hash": "81794d4967e6c3204c66dcd87b604927b115b27c00565d3d43f05ba2f3a2cb0d"
   }
  }
 },
 "nbformat": 4,
 "nbformat_minor": 2
}
