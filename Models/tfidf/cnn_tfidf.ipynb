{
 "cells": [
  {
   "cell_type": "code",
   "execution_count": 1,
   "metadata": {},
   "outputs": [
    {
     "name": "stderr",
     "output_type": "stream",
     "text": [
      "c:\\Python39\\lib\\site-packages\\requests\\__init__.py:102: RequestsDependencyWarning: urllib3 (1.26.7) or chardet (5.0.0)/charset_normalizer (2.0.9) doesn't match a supported version!\n",
      "  warnings.warn(\"urllib3 ({}) or chardet ({})/charset_normalizer ({}) doesn't match a supported \"\n"
     ]
    }
   ],
   "source": [
    "from sklearn.model_selection import train_test_split, KFold\n",
    "import numpy as np\n",
    "import pandas as pd\n",
    "from sklearn.feature_extraction.text import TfidfVectorizer\n",
    "import pandas as pd\n",
    "from sklearn.preprocessing import LabelBinarizer\n",
    "import tensorflow as tf\n",
    "import matplotlib.pyplot as plt\n",
    "import time\n",
    "from sklearn.metrics import accuracy_score\n",
    "from sklearn.metrics import precision_recall_fscore_support as score\n",
    "from keras.models import Model\n",
    "from keras.layers import Input, Convolution1D, Flatten, Dense, Dropout, Embedding\n",
    "from keras.optimizers import Adam,SGD\n",
    "import tensorflow as tf"
   ]
  },
  {
   "cell_type": "code",
   "execution_count": 2,
   "metadata": {},
   "outputs": [],
   "source": [
    "#Hyper Parameters\n",
    "FILE_NAME = \"../../Data/processed_data.csv\"\n",
    "CNN_LAYER_SIZE =50\n",
    "BATCH_SIZE = 32\n",
    "EPOCH_LENGTH = 10\n",
    "VALIDATION_PERCENTAGE = 0.1\n",
    "TEST_SIZE_PERCENTAGE = 0.2\n",
    "NUMBER_K_FOLDS = 3\n",
    "LEARNING_RATE = 0.1\n",
    "VERBOSE = 1\n",
    "HIDDEN_ACTIVATION_FUNCTION = 'relu'\n",
    "OUTPUT_ACTIVATION_FUNCTION = 'softmax'\n",
    "LOSS_FUNCTION = 'categorical_crossentropy'\n",
    "METRICS=['accuracy']\n",
    "Y_LABEL_NAME=\"author\"\n",
    "X_LABEL_NAME=\"text\""
   ]
  },
  {
   "cell_type": "code",
   "execution_count": 3,
   "metadata": {},
   "outputs": [],
   "source": [
    "#Defining model\n",
    "def define_model(input_size, output_size, verbose = True, cnn_layer_size = 50,\n",
    "                 hidden_activation_fn = 'relu', output_activation_fn='softmax',\n",
    "                 learning = 0.0005, loss_function = 'categorical_crossentropy', metrics = ['accuracy']):\n",
    "    \n",
    "    inputs = Input(shape = (1,input_size))\n",
    "    cnn = Convolution1D(filters = cnn_layer_size, kernel_size = 1, activation=hidden_activation_fn)(inputs)\n",
    "    flat1 = Flatten()(cnn)\n",
    "\n",
    "    output = Dense(units=output_size, activation=output_activation_fn)(flat1)\n",
    "  \n",
    "    \n",
    "    # Create model\n",
    "    model = Model(inputs = [inputs], outputs = [output])\n",
    "    \n",
    "    # Compile model\n",
    "    model.compile(loss=loss_function, optimizer = SGD(learning_rate = learning), metrics=metrics)\n",
    "    \n",
    "    if verbose:\n",
    "        print(model.summary())\n",
    "\n",
    "    return model"
   ]
  },
  {
   "cell_type": "code",
   "execution_count": 4,
   "metadata": {},
   "outputs": [],
   "source": [
    "#Read data\n",
    "data = pd.read_csv(FILE_NAME)"
   ]
  },
  {
   "cell_type": "code",
   "execution_count": 5,
   "metadata": {},
   "outputs": [],
   "source": [
    "#Get corpus and y label\n",
    "text = data[X_LABEL_NAME]\n",
    "author = data[Y_LABEL_NAME]"
   ]
  },
  {
   "cell_type": "code",
   "execution_count": 6,
   "metadata": {},
   "outputs": [],
   "source": [
    "#Split data\n",
    "text_train, text_test, author_train, author_test = train_test_split(text, author, test_size = TEST_SIZE_PERCENTAGE, random_state = 5)"
   ]
  },
  {
   "cell_type": "code",
   "execution_count": 7,
   "metadata": {},
   "outputs": [],
   "source": [
    "#Transform data into tfidf representation\n",
    "tfidf = TfidfVectorizer(binary=False)\n",
    "X_train = tfidf.fit_transform(text_train).astype('float32')\n",
    "X_test = tfidf.transform(text_test).astype('float32')\n",
    "\n",
    "\n",
    "X_train = X_train.toarray()\n",
    "X_test = X_test.toarray()\n",
    "\n",
    "#Get input and output dimensions\n",
    "input_size = X_train.shape[1]\n",
    "output_size = len(author.unique())"
   ]
  },
  {
   "cell_type": "code",
   "execution_count": 8,
   "metadata": {},
   "outputs": [],
   "source": [
    "# One hot encode y labels\n",
    "author_lb = LabelBinarizer()\n",
    "author_lb.fit(author_train)\n",
    "author_train_hot = author_lb.transform(author_train)\n",
    "author_test_hot = author_lb.transform(author_test)"
   ]
  },
  {
   "cell_type": "code",
   "execution_count": 9,
   "metadata": {},
   "outputs": [
    {
     "name": "stdout",
     "output_type": "stream",
     "text": [
      "(15663, 23230)\n",
      "(3916, 23230)\n",
      "(15663,)\n",
      "(3916,)\n"
     ]
    }
   ],
   "source": [
    "print(np.shape(X_train))\n",
    "print(np.shape(X_test))\n",
    "print(np.shape(author_train))\n",
    "print(np.shape(author_test))"
   ]
  },
  {
   "cell_type": "code",
   "execution_count": 10,
   "metadata": {},
   "outputs": [],
   "source": [
    "X_train = X_train[:,None]\n",
    "X_test = X_test[:,None]"
   ]
  },
  {
   "cell_type": "code",
   "execution_count": 11,
   "metadata": {},
   "outputs": [
    {
     "name": "stdout",
     "output_type": "stream",
     "text": [
      "(15663, 1, 23230)\n",
      "(3916, 1, 23230)\n"
     ]
    }
   ],
   "source": [
    "print(np.shape(X_train))\n",
    "print(np.shape(X_test))"
   ]
  },
  {
   "cell_type": "code",
   "execution_count": 12,
   "metadata": {},
   "outputs": [],
   "source": [
    "# X_train = np.reshape(X_train,( -1,23230,1))\n",
    "# X_test= np.reshape(X_test,( -1,23230,1))\n",
    "\n",
    "# X_train = np.reshape(X_train,( -1,1,23230))\n",
    "# X_test= np.reshape(X_test,( -1,1,23230))\n",
    "\n",
    "\n",
    "X_train = np.reshape(X_train,( -1,1,23230))\n",
    "X_test= np.reshape(X_test,( -1,1,23230))"
   ]
  },
  {
   "cell_type": "code",
   "execution_count": 13,
   "metadata": {},
   "outputs": [
    {
     "name": "stdout",
     "output_type": "stream",
     "text": [
      "Run: 1\n",
      "Epoch 1/10\n",
      "294/294 [==============================] - 4s 13ms/step - loss: 1.0806 - accuracy: 0.3995 - val_loss: 1.0697 - val_accuracy: 0.3962\n",
      "Epoch 2/10\n",
      "294/294 [==============================] - 4s 12ms/step - loss: 1.0483 - accuracy: 0.4308 - val_loss: 1.0308 - val_accuracy: 0.4478\n",
      "Epoch 3/10\n",
      "294/294 [==============================] - 3s 11ms/step - loss: 0.9907 - accuracy: 0.5298 - val_loss: 0.9651 - val_accuracy: 0.5895\n",
      "Epoch 4/10\n",
      "294/294 [==============================] - 3s 11ms/step - loss: 0.9028 - accuracy: 0.6322 - val_loss: 0.8914 - val_accuracy: 0.6383\n",
      "Epoch 5/10\n",
      "294/294 [==============================] - 3s 11ms/step - loss: 0.8036 - accuracy: 0.7095 - val_loss: 0.8084 - val_accuracy: 0.6919\n",
      "Epoch 6/10\n",
      "294/294 [==============================] - 3s 11ms/step - loss: 0.7091 - accuracy: 0.7525 - val_loss: 0.7592 - val_accuracy: 0.6995\n",
      "Epoch 7/10\n",
      "294/294 [==============================] - 3s 11ms/step - loss: 0.6273 - accuracy: 0.7847 - val_loss: 0.7049 - val_accuracy: 0.7263\n",
      "Epoch 8/10\n",
      "294/294 [==============================] - 3s 11ms/step - loss: 0.5578 - accuracy: 0.8145 - val_loss: 0.6725 - val_accuracy: 0.7234\n",
      "Epoch 9/10\n",
      "294/294 [==============================] - 3s 11ms/step - loss: 0.4978 - accuracy: 0.8360 - val_loss: 0.6205 - val_accuracy: 0.7541\n",
      "Epoch 10/10\n",
      "294/294 [==============================] - 3s 11ms/step - loss: 0.4422 - accuracy: 0.8641 - val_loss: 0.5966 - val_accuracy: 0.7742\n",
      "123/123 [==============================] - 0s 2ms/step\n",
      "Run: 2\n",
      "Epoch 1/10\n",
      "294/294 [==============================] - 5s 16ms/step - loss: 1.0790 - accuracy: 0.4048 - val_loss: 1.0677 - val_accuracy: 0.4010\n",
      "Epoch 2/10\n",
      "294/294 [==============================] - 4s 14ms/step - loss: 1.0444 - accuracy: 0.4539 - val_loss: 1.0272 - val_accuracy: 0.4612\n",
      "Epoch 3/10\n",
      "294/294 [==============================] - 15s 51ms/step - loss: 0.9832 - accuracy: 0.5372 - val_loss: 0.9662 - val_accuracy: 0.5005\n",
      "Epoch 4/10\n",
      "294/294 [==============================] - 4s 12ms/step - loss: 0.8983 - accuracy: 0.6251 - val_loss: 0.8873 - val_accuracy: 0.6689\n",
      "Epoch 5/10\n",
      "294/294 [==============================] - 3s 11ms/step - loss: 0.8042 - accuracy: 0.6991 - val_loss: 0.8201 - val_accuracy: 0.6555\n",
      "Epoch 6/10\n",
      "294/294 [==============================] - 3s 11ms/step - loss: 0.7135 - accuracy: 0.7451 - val_loss: 0.7669 - val_accuracy: 0.6880\n",
      "Epoch 7/10\n",
      "294/294 [==============================] - 3s 11ms/step - loss: 0.6326 - accuracy: 0.7776 - val_loss: 0.6898 - val_accuracy: 0.7416\n",
      "Epoch 8/10\n",
      "294/294 [==============================] - 3s 11ms/step - loss: 0.5605 - accuracy: 0.8142 - val_loss: 0.6474 - val_accuracy: 0.7579\n",
      "Epoch 9/10\n",
      "294/294 [==============================] - 3s 11ms/step - loss: 0.4960 - accuracy: 0.8406 - val_loss: 0.6611 - val_accuracy: 0.7378\n",
      "Epoch 10/10\n",
      "294/294 [==============================] - 3s 11ms/step - loss: 0.4448 - accuracy: 0.8610 - val_loss: 0.6083 - val_accuracy: 0.7608\n",
      "123/123 [==============================] - 1s 11ms/step\n",
      "Run: 3\n",
      "Epoch 1/10\n",
      "294/294 [==============================] - 4s 11ms/step - loss: 1.0814 - accuracy: 0.4027 - val_loss: 1.0691 - val_accuracy: 0.4105\n",
      "Epoch 2/10\n",
      "294/294 [==============================] - 3s 11ms/step - loss: 1.0555 - accuracy: 0.4227 - val_loss: 1.0363 - val_accuracy: 0.4402\n",
      "Epoch 3/10\n",
      "294/294 [==============================] - 3s 11ms/step - loss: 1.0046 - accuracy: 0.5103 - val_loss: 0.9767 - val_accuracy: 0.5780\n",
      "Epoch 4/10\n",
      "294/294 [==============================] - 3s 11ms/step - loss: 0.9222 - accuracy: 0.6178 - val_loss: 0.8972 - val_accuracy: 0.5809\n",
      "Epoch 5/10\n",
      "294/294 [==============================] - 3s 11ms/step - loss: 0.8245 - accuracy: 0.6901 - val_loss: 0.8490 - val_accuracy: 0.5789\n",
      "Epoch 6/10\n",
      "294/294 [==============================] - 3s 11ms/step - loss: 0.7333 - accuracy: 0.7385 - val_loss: 0.7572 - val_accuracy: 0.7005\n",
      "Epoch 7/10\n",
      "294/294 [==============================] - 3s 11ms/step - loss: 0.6474 - accuracy: 0.7697 - val_loss: 0.6892 - val_accuracy: 0.7254\n",
      "Epoch 8/10\n",
      "294/294 [==============================] - 3s 11ms/step - loss: 0.5745 - accuracy: 0.8066 - val_loss: 0.6454 - val_accuracy: 0.7435\n",
      "Epoch 9/10\n",
      "294/294 [==============================] - 3s 11ms/step - loss: 0.5141 - accuracy: 0.8326 - val_loss: 0.6082 - val_accuracy: 0.7522\n",
      "Epoch 10/10\n",
      "294/294 [==============================] - 3s 11ms/step - loss: 0.4576 - accuracy: 0.8561 - val_loss: 0.6935 - val_accuracy: 0.6976\n",
      "123/123 [==============================] - 0s 2ms/step\n",
      "Test Accuracy: [0.7714504596527069, 0.7732379979570991, 0.7116956077630235]\n",
      "Ave. Precision: [0.7799390262713888, 0.787029252821557, 0.7729924029588489]\n",
      "Ave. Recall: [0.7714504596527069, 0.7732379979570991, 0.7116956077630234]\n",
      "Ave. F1 Score: [0.7719410590697661, 0.7739647727858854, 0.7028625012718408]\n"
     ]
    }
   ],
   "source": [
    "# Sets seed\n",
    "np.random.seed(28)\n",
    "kf = KFold(n_splits = NUMBER_K_FOLDS)\n",
    "\n",
    "test_accuracy_list = []\n",
    "prec_list = []\n",
    "recall_list = []\n",
    "f1_list = []\n",
    "training_time_list = []\n",
    "prediction_time_list = []\n",
    "full_history =[]\n",
    "\n",
    "run = 0\n",
    "\n",
    "\n",
    "for train_inds, _ in kf.split(X_train):\n",
    "    run += 1\n",
    "    print('Run:', run)\n",
    "       \n",
    "    train_x = np.array([X_train[i] for i in train_inds])\n",
    "    train_y = np.array([author_train_hot[i] for i in train_inds])\n",
    "       \n",
    "    t0 = time.time()\n",
    "    # Fit model\n",
    "    cnn_model = define_model(input_size= input_size, output_size= output_size, verbose = False,\n",
    "                      cnn_layer_size = CNN_LAYER_SIZE, hidden_activation_fn = HIDDEN_ACTIVATION_FUNCTION,\n",
    "                      output_activation_fn = OUTPUT_ACTIVATION_FUNCTION, learning=LEARNING_RATE, loss_function = LOSS_FUNCTION, metrics=METRICS)\n",
    "\n",
    "    histroy = cnn_model.fit(train_x, train_y, epochs=EPOCH_LENGTH, batch_size=BATCH_SIZE, verbose = VERBOSE,validation_split = VALIDATION_PERCENTAGE)\n",
    "  \n",
    "    t1 = time.time()\n",
    "    \n",
    "    # Predict values for test set\n",
    "    author_pred1 = cnn_model.predict(X_test)\n",
    "    author_pred1 = author_lb.inverse_transform(author_pred1)\n",
    "\n",
    "    t2 = time.time()\n",
    "\n",
    "    # Evaluate\n",
    "    test_accuracy = accuracy_score(author_test, author_pred1)\n",
    "    precision, recall, f1, support = score(author_test, author_pred1)\n",
    "    ave_precision = np.average(precision, weights = support/np.sum(support))\n",
    "    ave_recall = np.average(recall, weights = support/np.sum(support))\n",
    "    ave_f1 = np.average(f1, weights = support/np.sum(support))\n",
    "    training_time = (t1 - t0)\n",
    "    prediction_time = (t2 - t1)\n",
    "    \n",
    "    test_accuracy_list.append(test_accuracy)\n",
    "    prec_list.append(ave_precision)\n",
    "    recall_list.append(ave_recall)\n",
    "    f1_list.append(ave_f1)\n",
    "    training_time_list.append(training_time)\n",
    "    prediction_time_list.append(prediction_time)\n",
    "    full_history.append(histroy)\n",
    "\n",
    "print(\"Test Accuracy:\", test_accuracy_list)\n",
    "print(\"Ave. Precision:\", prec_list)\n",
    "print(\"Ave. Recall:\", recall_list)\n",
    "print(\"Ave. F1 Score:\", f1_list)"
   ]
  },
  {
   "cell_type": "code",
   "execution_count": 14,
   "metadata": {},
   "outputs": [
    {
     "name": "stdout",
     "output_type": "stream",
     "text": [
      "Average Accuracy across K-folds: 0.7521280217909432\n",
      "Average Precision across K-folds: 0.7799868940172648\n",
      "Average Recall across K-folds: 0.7521280217909432\n",
      "Average F1 Score across K-folds: 0.7495894443758306\n",
      "Average Training Time across K-folds: 32.90700101852417 seconds\n",
      "Prediction Time across K-folds: 0.30100131034851074 seconds\n"
     ]
    }
   ],
   "source": [
    "#Get averages for kfold runs\n",
    "mean_accuracy_across_kfold = np.mean(test_accuracy_list)\n",
    "mean_percision_across_kfold = np.mean(prec_list)\n",
    "mean_recall_across_kfold = np.mean(recall_list)\n",
    "mean_f1_across_kfold = np.mean(f1_list)\n",
    "\n",
    "\n",
    "print(\"Average Accuracy across K-folds:\", mean_accuracy_across_kfold)\n",
    "print(\"Average Precision across K-folds:\", mean_percision_across_kfold)\n",
    "print(\"Average Recall across K-folds:\", mean_recall_across_kfold)\n",
    "print(\"Average F1 Score across K-folds:\", mean_f1_across_kfold)\n",
    "print(\"Average Training Time across K-folds:\", (t1 - t0), \"seconds\")\n",
    "print(\"Prediction Time across K-folds:\", (t2 - t1), \"seconds\")"
   ]
  },
  {
   "cell_type": "code",
   "execution_count": 15,
   "metadata": {},
   "outputs": [],
   "source": [
    "average_test_loss_accross_kfold = []\n",
    "average_validation_loss_accross_kfold = []\n",
    "average_test_accuracy_accross_kfold = []\n",
    "average_validation_accuracy_accross_kfold = []\n",
    "\n",
    "for i in range(len(full_history)):\n",
    "    average_test_loss_accross_kfold.append(full_history[i].history['loss'])\n",
    "    average_validation_loss_accross_kfold.append(full_history[i].history['val_loss'])\n",
    "\n",
    "    average_test_accuracy_accross_kfold.append(full_history[i].history['accuracy'])\n",
    "    average_validation_accuracy_accross_kfold.append(full_history[i].history['val_accuracy'])\n",
    "\n",
    "average_loss_accross_kfold = np.mean(average_test_loss_accross_kfold,axis=0)\n",
    "average_validation_loss_accross_kfold = np.mean(average_validation_loss_accross_kfold,axis=0)\n",
    "\n",
    "average_accuracy_accross_kfold = np.mean(average_test_accuracy_accross_kfold,axis=0)\n",
    "average_validation_accuracy_accross_kfold = np.mean(average_validation_accuracy_accross_kfold,axis=0)"
   ]
  },
  {
   "cell_type": "code",
   "execution_count": 16,
   "metadata": {},
   "outputs": [
    {
     "name": "stderr",
     "output_type": "stream",
     "text": [
      "The PostScript backend does not support transparency; partially transparent artists will be rendered opaque.\n"
     ]
    },
    {
     "data": {
      "image/png": "[encoded data removed]",
      "text/plain": [
       "<Figure size 640x480 with 1 Axes>"
      ]
     },
     "metadata": {},
     "output_type": "display_data"
    }
   ],
   "source": [
    "# summarize history for accuracy\n",
    "plt.plot(average_accuracy_accross_kfold)\n",
    "plt.plot(average_validation_accuracy_accross_kfold)\n",
    "plt.title('Convolutional Neural Network Accuracy (tfidf)')\n",
    "plt.ylabel('accuracy')\n",
    "plt.xlabel('epoch')\n",
    "plt.legend(['Train', 'Validation'], loc='upper left')\n",
    "plt.savefig(\"../outputs/Convolutional_neural_network_tfidf_acc.eps\", format='eps')\n",
    "plt.show()"
   ]
  },
  {
   "cell_type": "code",
   "execution_count": 17,
   "metadata": {},
   "outputs": [
    {
     "name": "stderr",
     "output_type": "stream",
     "text": [
      "The PostScript backend does not support transparency; partially transparent artists will be rendered opaque.\n"
     ]
    },
    {
     "data": {
      "image/png": "[encoded data removed]",
      "text/plain": [
       "<Figure size 640x480 with 1 Axes>"
      ]
     },
     "metadata": {},
     "output_type": "display_data"
    }
   ],
   "source": [
    "# summarize history for loss\n",
    "plt.plot(average_loss_accross_kfold)\n",
    "plt.plot(average_validation_loss_accross_kfold)\n",
    "plt.title('Convolutional Neural Network Loss (tfidf)')\n",
    "plt.ylabel('loss')\n",
    "plt.xlabel('epoch')\n",
    "plt.legend(['Train', 'Validation'], loc='upper left')\n",
    "plt.savefig(\"../outputs/Convolutional_neural_network__tfidf_loss.eps\", format='eps')\n",
    "plt.show()"
   ]
  }
 ],
 "metadata": {
  "kernelspec": {
   "display_name": "Python 3.9.6 64-bit",
   "language": "python",
   "name": "python3"
  },
  "language_info": {
   "codemirror_mode": {
    "name": "ipython",
    "version": 3
   },
   "file_extension": ".py",
   "mimetype": "text/x-python",
   "name": "python",
   "nbconvert_exporter": "python",
   "pygments_lexer": "ipython3",
   "version": "3.9.6"
  },
  "orig_nbformat": 4,
  "vscode": {
   "interpreter": {
    "hash": "81794d4967e6c3204c66dcd87b604927b115b27c00565d3d43f05ba2f3a2cb0d"
   }
  }
 },
 "nbformat": 4,
 "nbformat_minor": 2
}
