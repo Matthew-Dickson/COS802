{
 "cells": [
  {
   "cell_type": "code",
   "execution_count": 1,
   "metadata": {},
   "outputs": [
    {
     "name": "stderr",
     "output_type": "stream",
     "text": [
      "c:\\Python39\\lib\\site-packages\\requests\\__init__.py:102: RequestsDependencyWarning: urllib3 (1.26.7) or chardet (5.0.0)/charset_normalizer (2.0.9) doesn't match a supported version!\n",
      "  warnings.warn(\"urllib3 ({}) or chardet ({})/charset_normalizer ({}) doesn't match a supported \"\n"
     ]
    }
   ],
   "source": [
    "from sklearn.model_selection import train_test_split, KFold\n",
    "import numpy as np\n",
    "import pandas as pd\n",
    "from sklearn.feature_extraction.text import TfidfVectorizer\n",
    "import pandas as pd\n",
    "from sklearn.preprocessing import LabelBinarizer\n",
    "import tensorflow as tf\n",
    "import matplotlib.pyplot as plt\n",
    "import time\n",
    "from sklearn.metrics import accuracy_score\n",
    "from sklearn.metrics import precision_recall_fscore_support as score\n",
    "from keras.models import Model\n",
    "from keras.layers import Input, LSTM, Flatten, Dense, Dropout, Embedding, Concatenate,MaxPooling1D,concatenate \n",
    "from keras.optimizers import Adam, SGD\n",
    "import tensorflow as tf\n",
    "import nltk \n",
    "from gensim.models import Word2Vec\n",
    "from nltk.tokenize import sent_tokenize, word_tokenize\n",
    "from keras.preprocessing.text import Tokenizer\n",
    "from keras_preprocessing.sequence import pad_sequences\n",
    "from numpy import zeros"
   ]
  },
  {
   "cell_type": "code",
   "execution_count": 2,
   "metadata": {},
   "outputs": [],
   "source": [
    "#Hyper Parameters\n",
    "FILE_NAME = \"../../Data/processed_data.csv\"\n",
    "DENSE_LAYER_SIZE =50\n",
    "BATCH_SIZE = 32\n",
    "EPOCH_LENGTH = 10\n",
    "VALIDATION_PERCENTAGE = 0.1\n",
    "TEST_SIZE_PERCENTAGE = 0.2\n",
    "NUMBER_K_FOLDS = 3\n",
    "LEARNING_RATE = 0.1\n",
    "VERBOSE = 1\n",
    "MAX_LENGTH = 20\n",
    "HIDDEN_ACTIVATION_FUNCTION = 'relu'\n",
    "OUTPUT_ACTIVATION_FUNCTION = 'softmax'\n",
    "LOSS_FUNCTION = 'categorical_crossentropy'\n",
    "METRICS=['accuracy']\n",
    "Y_LABEL_NAME=\"author\"\n",
    "X_LABEL_NAME=\"text\""
   ]
  },
  {
   "cell_type": "code",
   "execution_count": 3,
   "metadata": {},
   "outputs": [],
   "source": [
    "#Read data\n",
    "data = pd.read_csv(FILE_NAME)"
   ]
  },
  {
   "cell_type": "code",
   "execution_count": 4,
   "metadata": {},
   "outputs": [],
   "source": [
    "documents = data[X_LABEL_NAME]\n",
    "tokenizer = Tokenizer()"
   ]
  },
  {
   "cell_type": "code",
   "execution_count": 6,
   "metadata": {},
   "outputs": [],
   "source": [
    "tokenizer.fit_on_texts(documents)\n",
    "vocab_size = len(tokenizer.word_index) + 1"
   ]
  },
  {
   "cell_type": "code",
   "execution_count": 8,
   "metadata": {},
   "outputs": [],
   "source": [
    "encoded_docs = tokenizer.texts_to_sequences(documents)\n"
   ]
  },
  {
   "cell_type": "code",
   "execution_count": 10,
   "metadata": {},
   "outputs": [
    {
     "name": "stdout",
     "output_type": "stream",
     "text": [
      "[[  294     4     1 ...    98     1   429]\n",
      " [   11    89   125 ...     0     0     0]\n",
      " [  560  3702    32 ...   345   476  2690]\n",
      " ...\n",
      " [10408  5067 15798 ...     0     0     0]\n",
      " [   17    34  4660 ...     0     0     0]\n",
      " [    6  6667  6561 ...     9     2  6006]]\n"
     ]
    }
   ],
   "source": [
    "padded_docs = pad_sequences(encoded_docs, maxlen=MAX_LENGTH, padding='post')\n",
    "print(padded_docs)"
   ]
  },
  {
   "cell_type": "code",
   "execution_count": 72,
   "metadata": {},
   "outputs": [
    {
     "name": "stdout",
     "output_type": "stream",
     "text": [
      "861\n"
     ]
    }
   ],
   "source": [
    "max_length_for_padding=[] \n",
    "for i in encoded_docs:  \n",
    "  max_length_for_padding.append(len(i))  \n",
    "print(max(max_length_for_padding))"
   ]
  },
  {
   "cell_type": "code",
   "execution_count": 73,
   "metadata": {},
   "outputs": [
    {
     "name": "stdout",
     "output_type": "stream",
     "text": [
      "Loaded 400000 word vectors.\n"
     ]
    }
   ],
   "source": [
    "# load the whole embedding into memory\n",
    "embeddings_index = dict()\n",
    "f = open('../embeddings/glove.6B.100d.txt',encoding=\"utf8\")\n",
    "for line in f:\n",
    "\tvalues = line.split()\n",
    "\tword = values[0]\n",
    "\tcoefs = np.asarray(values[1:], dtype='float32')\n",
    "\tembeddings_index[word] = coefs\n",
    "f.close()\n",
    "print('Loaded %s word vectors.' % len(embeddings_index))"
   ]
  },
  {
   "cell_type": "code",
   "execution_count": 74,
   "metadata": {},
   "outputs": [],
   "source": [
    "# create a weight matrix for words in training docs\n",
    "embedding_matrix = zeros((vocab_size, 100))\n",
    "for word, i in tokenizer.word_index.items():\n",
    "\tembedding_vector = embeddings_index.get(word)\n",
    "\tif embedding_vector is not None:\n",
    "\t\tembedding_matrix[i] = embedding_vector"
   ]
  },
  {
   "cell_type": "code",
   "execution_count": 75,
   "metadata": {},
   "outputs": [],
   "source": [
    "\n",
    "#Defining model\n",
    "def define_model(input_size, output_size, verbose = True, dense_layer_size = 50,\n",
    "                 hidden_activation_fn = 'relu', output_activation_fn='softmax',\n",
    "                 learning = 0.0005, loss_function = 'categorical_crossentropy', metrics = ['accuracy']):\n",
    "    \n",
    "\n",
    "    # define model\n",
    "    input =  Input(shape=(input_size,))\n",
    "    emb_lay = Embedding(vocab_size, 100,weights=[embedding_matrix], input_length=MAX_LENGTH, trainable=True)(input)\n",
    "    dense = Dense(dense_layer_size, activation=hidden_activation_fn)(emb_lay)\n",
    "    flat1 = Flatten()(dense)\n",
    "    output=Dense(units=output_size, activation=output_activation_fn)(flat1)\n",
    "\n",
    "    # Create model\n",
    "    model = Model(inputs = [input], outputs = [output])\n",
    "    \n",
    "    # Compile model\n",
    "    model.compile(loss=loss_function, optimizer = SGD(learning_rate = learning), metrics=metrics)\n",
    "    \n",
    "    if verbose:\n",
    "        print(model.summary())\n",
    "\n",
    "    return model\n",
    "\n",
    "\n",
    " "
   ]
  },
  {
   "cell_type": "code",
   "execution_count": 76,
   "metadata": {},
   "outputs": [],
   "source": [
    "#Get corpus and y label\n",
    "text = data[X_LABEL_NAME]\n",
    "author = data[Y_LABEL_NAME]"
   ]
  },
  {
   "cell_type": "code",
   "execution_count": 77,
   "metadata": {},
   "outputs": [],
   "source": [
    "#Split data\n",
    "text_train, text_test, author_train, author_test = train_test_split(text, author, test_size = TEST_SIZE_PERCENTAGE, random_state = 5)"
   ]
  },
  {
   "cell_type": "code",
   "execution_count": 78,
   "metadata": {},
   "outputs": [],
   "source": [
    "X_train= tokenizer.texts_to_sequences(text_train)\n",
    "X_train =  pad_sequences(X_train, maxlen=MAX_LENGTH, padding='post')"
   ]
  },
  {
   "cell_type": "code",
   "execution_count": 79,
   "metadata": {},
   "outputs": [],
   "source": [
    "\n",
    "X_test= tokenizer.texts_to_sequences(text_test)\n",
    "X_test =  pad_sequences(X_test, maxlen=MAX_LENGTH, padding='post')"
   ]
  },
  {
   "cell_type": "code",
   "execution_count": 80,
   "metadata": {},
   "outputs": [],
   "source": [
    "\n",
    "#Get input and output dimensions\n",
    "input_size = X_train.shape[1]\n",
    "output_size = len(author.unique())"
   ]
  },
  {
   "cell_type": "code",
   "execution_count": 81,
   "metadata": {},
   "outputs": [],
   "source": [
    "# One hot encode y labels\n",
    "author_lb = LabelBinarizer()\n",
    "author_lb.fit(author_train)\n",
    "author_train_hot = author_lb.transform(author_train)\n",
    "author_test_hot = author_lb.transform(author_test)"
   ]
  },
  {
   "cell_type": "code",
   "execution_count": 82,
   "metadata": {},
   "outputs": [
    {
     "name": "stdout",
     "output_type": "stream",
     "text": [
      "(15663, 20)\n",
      "(3916, 20)\n",
      "(15663,)\n",
      "(3916,)\n"
     ]
    }
   ],
   "source": [
    "print(np.shape(X_train))\n",
    "print(np.shape(X_test))\n",
    "print(np.shape(author_train))\n",
    "print(np.shape(author_test))"
   ]
  },
  {
   "cell_type": "code",
   "execution_count": 83,
   "metadata": {},
   "outputs": [
    {
     "name": "stdout",
     "output_type": "stream",
     "text": [
      "(15663, 20)\n",
      "(3916, 20)\n"
     ]
    }
   ],
   "source": [
    "print(np.shape(X_train))\n",
    "print(np.shape(X_test))"
   ]
  },
  {
   "cell_type": "code",
   "execution_count": 84,
   "metadata": {},
   "outputs": [
    {
     "name": "stdout",
     "output_type": "stream",
     "text": [
      "Run: 1\n",
      "Epoch 1/10\n",
      "294/294 [==============================] - 1s 2ms/step - loss: 0.9906 - accuracy: 0.5155 - val_loss: 0.9196 - val_accuracy: 0.5732\n",
      "Epoch 2/10\n",
      "294/294 [==============================] - 0s 1ms/step - loss: 0.8345 - accuracy: 0.6272 - val_loss: 0.8653 - val_accuracy: 0.6057\n",
      "Epoch 3/10\n",
      "294/294 [==============================] - 0s 1ms/step - loss: 0.7623 - accuracy: 0.6651 - val_loss: 0.8109 - val_accuracy: 0.6440\n",
      "Epoch 4/10\n",
      "294/294 [==============================] - 0s 1ms/step - loss: 0.7102 - accuracy: 0.6978 - val_loss: 0.8374 - val_accuracy: 0.6134\n",
      "Epoch 5/10\n",
      "294/294 [==============================] - 0s 1ms/step - loss: 0.6627 - accuracy: 0.7247 - val_loss: 0.8047 - val_accuracy: 0.6507\n",
      "Epoch 6/10\n",
      "294/294 [==============================] - 0s 1ms/step - loss: 0.6226 - accuracy: 0.7460 - val_loss: 0.8165 - val_accuracy: 0.6440\n",
      "Epoch 7/10\n",
      "294/294 [==============================] - 0s 1ms/step - loss: 0.5884 - accuracy: 0.7582 - val_loss: 0.8199 - val_accuracy: 0.6536\n",
      "Epoch 8/10\n",
      "294/294 [==============================] - 0s 2ms/step - loss: 0.5494 - accuracy: 0.7820 - val_loss: 0.8870 - val_accuracy: 0.6325\n",
      "Epoch 9/10\n",
      "294/294 [==============================] - 0s 1ms/step - loss: 0.5195 - accuracy: 0.7928 - val_loss: 0.8349 - val_accuracy: 0.6431\n",
      "Epoch 10/10\n",
      "294/294 [==============================] - 0s 1ms/step - loss: 0.4859 - accuracy: 0.8122 - val_loss: 0.8984 - val_accuracy: 0.6431\n",
      "123/123 [==============================] - 0s 721us/step\n",
      "Run: 2\n",
      "Epoch 1/10\n",
      "294/294 [==============================] - 1s 2ms/step - loss: 0.9862 - accuracy: 0.5196 - val_loss: 0.9201 - val_accuracy: 0.5656\n",
      "Epoch 2/10\n",
      "294/294 [==============================] - 0s 1ms/step - loss: 0.8308 - accuracy: 0.6276 - val_loss: 0.8338 - val_accuracy: 0.6325\n",
      "Epoch 3/10\n",
      "294/294 [==============================] - 0s 1ms/step - loss: 0.7574 - accuracy: 0.6714 - val_loss: 0.8138 - val_accuracy: 0.6517\n",
      "Epoch 4/10\n",
      "294/294 [==============================] - 0s 1ms/step - loss: 0.7027 - accuracy: 0.6988 - val_loss: 0.8245 - val_accuracy: 0.6373\n",
      "Epoch 5/10\n",
      "294/294 [==============================] - 0s 1ms/step - loss: 0.6589 - accuracy: 0.7181 - val_loss: 0.8016 - val_accuracy: 0.6689\n",
      "Epoch 6/10\n",
      "294/294 [==============================] - 0s 1ms/step - loss: 0.6180 - accuracy: 0.7399 - val_loss: 0.7959 - val_accuracy: 0.6545\n",
      "Epoch 7/10\n",
      "294/294 [==============================] - 0s 1ms/step - loss: 0.5789 - accuracy: 0.7640 - val_loss: 0.8997 - val_accuracy: 0.6278\n",
      "Epoch 8/10\n",
      "294/294 [==============================] - 0s 1ms/step - loss: 0.5483 - accuracy: 0.7806 - val_loss: 0.8300 - val_accuracy: 0.6536\n",
      "Epoch 9/10\n",
      "294/294 [==============================] - 0s 1ms/step - loss: 0.5161 - accuracy: 0.7917 - val_loss: 0.8170 - val_accuracy: 0.6641\n",
      "Epoch 10/10\n",
      "294/294 [==============================] - 0s 1ms/step - loss: 0.4821 - accuracy: 0.8052 - val_loss: 0.8892 - val_accuracy: 0.6593\n",
      "123/123 [==============================] - 0s 738us/step\n",
      "Run: 3\n",
      "Epoch 1/10\n",
      "294/294 [==============================] - 1s 2ms/step - loss: 1.0125 - accuracy: 0.4927 - val_loss: 0.9154 - val_accuracy: 0.5828\n",
      "Epoch 2/10\n",
      "294/294 [==============================] - 0s 1ms/step - loss: 0.8474 - accuracy: 0.6138 - val_loss: 0.9216 - val_accuracy: 0.5809\n",
      "Epoch 3/10\n",
      "294/294 [==============================] - 0s 1ms/step - loss: 0.7752 - accuracy: 0.6610 - val_loss: 0.8356 - val_accuracy: 0.6316\n",
      "Epoch 4/10\n",
      "294/294 [==============================] - 0s 1ms/step - loss: 0.7255 - accuracy: 0.6852 - val_loss: 0.8296 - val_accuracy: 0.6297\n",
      "Epoch 5/10\n",
      "294/294 [==============================] - 0s 1ms/step - loss: 0.6812 - accuracy: 0.7146 - val_loss: 0.8505 - val_accuracy: 0.6287\n",
      "Epoch 6/10\n",
      "294/294 [==============================] - 0s 1ms/step - loss: 0.6399 - accuracy: 0.7325 - val_loss: 0.9000 - val_accuracy: 0.6249\n",
      "Epoch 7/10\n",
      "294/294 [==============================] - 0s 1ms/step - loss: 0.6049 - accuracy: 0.7529 - val_loss: 0.8520 - val_accuracy: 0.6354\n",
      "Epoch 8/10\n",
      "294/294 [==============================] - 0s 1ms/step - loss: 0.5665 - accuracy: 0.7666 - val_loss: 0.8510 - val_accuracy: 0.6593\n",
      "Epoch 9/10\n",
      "294/294 [==============================] - 0s 1ms/step - loss: 0.5326 - accuracy: 0.7860 - val_loss: 0.8772 - val_accuracy: 0.6459\n",
      "Epoch 10/10\n",
      "294/294 [==============================] - 0s 1ms/step - loss: 0.4948 - accuracy: 0.8038 - val_loss: 0.9070 - val_accuracy: 0.6364\n",
      "123/123 [==============================] - 0s 738us/step\n",
      "Test Accuracy: [0.6450459652706844, 0.6473442288049029, 0.6355975485188968]\n",
      "Ave. Precision: [0.6576234481941526, 0.6636505787951054, 0.6441723671958233]\n",
      "Ave. Recall: [0.6450459652706844, 0.647344228804903, 0.6355975485188969]\n",
      "Ave. F1 Score: [0.6444857316935299, 0.6445139611056057, 0.6355911531656244]\n"
     ]
    }
   ],
   "source": [
    "# Sets seed\n",
    "np.random.seed(28)\n",
    "kf = KFold(n_splits = NUMBER_K_FOLDS)\n",
    "\n",
    "test_accuracy_list = []\n",
    "prec_list = []\n",
    "recall_list = []\n",
    "f1_list = []\n",
    "training_time_list = []\n",
    "prediction_time_list = []\n",
    "full_history =[]\n",
    "\n",
    "run = 0\n",
    "\n",
    "\n",
    "for train_inds, _ in kf.split(X_train):\n",
    "    run += 1\n",
    "    print('Run:', run)\n",
    "       \n",
    "    train_x = np.array([X_train[i] for i in train_inds])\n",
    "    train_y = np.array([author_train_hot[i] for i in train_inds])\n",
    "       \n",
    "    t0 = time.time()\n",
    "    # Fit model\n",
    "    dense_ann_model = define_model(input_size= input_size, output_size= output_size, verbose = False,\n",
    "                      dense_layer_size = DENSE_LAYER_SIZE, hidden_activation_fn = HIDDEN_ACTIVATION_FUNCTION,\n",
    "                      output_activation_fn = OUTPUT_ACTIVATION_FUNCTION, learning=LEARNING_RATE, loss_function = LOSS_FUNCTION, metrics=METRICS)\n",
    "\n",
    "    histroy = dense_ann_model.fit(train_x, train_y, epochs=EPOCH_LENGTH, batch_size=BATCH_SIZE, verbose = VERBOSE,validation_split = VALIDATION_PERCENTAGE)\n",
    "  \n",
    "    t1 = time.time()\n",
    "    \n",
    "    # Predict values for test set\n",
    "    author_pred1 = dense_ann_model.predict(X_test)\n",
    "    author_pred1 = author_lb.inverse_transform(author_pred1)\n",
    "\n",
    "    t2 = time.time()\n",
    "\n",
    "    # Evaluate\n",
    "    test_accuracy = accuracy_score(author_test, author_pred1)\n",
    "    precision, recall, f1, support = score(author_test, author_pred1)\n",
    "    ave_precision = np.average(precision, weights = support/np.sum(support))\n",
    "    ave_recall = np.average(recall, weights = support/np.sum(support))\n",
    "    ave_f1 = np.average(f1, weights = support/np.sum(support))\n",
    "    training_time = (t1 - t0)\n",
    "    prediction_time = (t2 - t1)\n",
    "    \n",
    "    test_accuracy_list.append(test_accuracy)\n",
    "    prec_list.append(ave_precision)\n",
    "    recall_list.append(ave_recall)\n",
    "    f1_list.append(ave_f1)\n",
    "    training_time_list.append(training_time)\n",
    "    prediction_time_list.append(prediction_time)\n",
    "    full_history.append(histroy)\n",
    "\n",
    "print(\"Test Accuracy:\", test_accuracy_list)\n",
    "print(\"Ave. Precision:\", prec_list)\n",
    "print(\"Ave. Recall:\", recall_list)\n",
    "print(\"Ave. F1 Score:\", f1_list)"
   ]
  },
  {
   "cell_type": "code",
   "execution_count": 85,
   "metadata": {},
   "outputs": [
    {
     "name": "stdout",
     "output_type": "stream",
     "text": [
      "Average Accuracy across K-folds: 0.642662580864828\n",
      "Average Precision across K-folds: 0.6551487980616938\n",
      "Average Recall across K-folds: 0.6426625808648281\n",
      "Average F1 Score across K-folds: 0.6415302819882532\n",
      "Average Training Time across K-folds: 4.523000717163086 seconds\n",
      "Prediction Time across K-folds: 0.17300105094909668 seconds\n"
     ]
    }
   ],
   "source": [
    "#Get averages for kfold runs\n",
    "mean_accuracy_across_kfold = np.mean(test_accuracy_list)\n",
    "mean_percision_across_kfold = np.mean(prec_list)\n",
    "mean_recall_across_kfold = np.mean(recall_list)\n",
    "mean_f1_across_kfold = np.mean(f1_list)\n",
    "\n",
    "\n",
    "print(\"Average Accuracy across K-folds:\", mean_accuracy_across_kfold)\n",
    "print(\"Average Precision across K-folds:\", mean_percision_across_kfold)\n",
    "print(\"Average Recall across K-folds:\", mean_recall_across_kfold)\n",
    "print(\"Average F1 Score across K-folds:\", mean_f1_across_kfold)\n",
    "print(\"Average Training Time across K-folds:\", (t1 - t0), \"seconds\")\n",
    "print(\"Prediction Time across K-folds:\", (t2 - t1), \"seconds\")"
   ]
  },
  {
   "cell_type": "code",
   "execution_count": 86,
   "metadata": {},
   "outputs": [],
   "source": [
    "average_test_loss_accross_kfold = []\n",
    "average_validation_loss_accross_kfold = []\n",
    "average_test_accuracy_accross_kfold = []\n",
    "average_validation_accuracy_accross_kfold = []\n",
    "\n",
    "for i in range(len(full_history)):\n",
    "    average_test_loss_accross_kfold.append(full_history[i].history['loss'])\n",
    "    average_validation_loss_accross_kfold.append(full_history[i].history['val_loss'])\n",
    "\n",
    "    average_test_accuracy_accross_kfold.append(full_history[i].history['accuracy'])\n",
    "    average_validation_accuracy_accross_kfold.append(full_history[i].history['val_accuracy'])\n",
    "\n",
    "average_loss_accross_kfold = np.mean(average_test_loss_accross_kfold,axis=0)\n",
    "average_validation_loss_accross_kfold = np.mean(average_validation_loss_accross_kfold,axis=0)\n",
    "\n",
    "average_accuracy_accross_kfold = np.mean(average_test_accuracy_accross_kfold,axis=0)\n",
    "average_validation_accuracy_accross_kfold = np.mean(average_validation_accuracy_accross_kfold,axis=0)"
   ]
  },
  {
   "cell_type": "code",
   "execution_count": 87,
   "metadata": {},
   "outputs": [
    {
     "name": "stderr",
     "output_type": "stream",
     "text": [
      "The PostScript backend does not support transparency; partially transparent artists will be rendered opaque.\n"
     ]
    },
    {
     "data": {
      "image/png": "[encoded data removed]",
      "text/plain": [
       "<Figure size 640x480 with 1 Axes>"
      ]
     },
     "metadata": {},
     "output_type": "display_data"
    }
   ],
   "source": [
    "# summarize history for accuracy\n",
    "plt.plot(average_accuracy_accross_kfold)\n",
    "plt.plot(average_validation_accuracy_accross_kfold)\n",
    "plt.title('Dense Artifical Neural Network Accuracy (glove)')\n",
    "plt.ylabel('accuracy')\n",
    "plt.xlabel('epoch')\n",
    "plt.legend(['Train', 'Validation'], loc='upper left')\n",
    "plt.savefig(\"../outputs/feed_forward_artifical_neural_network_glove_acc.eps\", format='eps')\n",
    "plt.show()"
   ]
  },
  {
   "cell_type": "code",
   "execution_count": 88,
   "metadata": {},
   "outputs": [
    {
     "name": "stderr",
     "output_type": "stream",
     "text": [
      "The PostScript backend does not support transparency; partially transparent artists will be rendered opaque.\n"
     ]
    },
    {
     "data": {
      "image/png": "[encoded data removed]",
      "text/plain": [
       "<Figure size 640x480 with 1 Axes>"
      ]
     },
     "metadata": {},
     "output_type": "display_data"
    }
   ],
   "source": [
    "# summarize history for loss\n",
    "plt.plot(average_loss_accross_kfold)\n",
    "plt.plot(average_validation_loss_accross_kfold)\n",
    "plt.title('Dense Artifical Neural Network Loss (glove)')\n",
    "plt.ylabel('loss')\n",
    "plt.xlabel('epoch')\n",
    "plt.legend(['Train', 'Validation'], loc='upper left')\n",
    "plt.savefig(\"../outputs/feed_forward_artifical_neural_network_glove_loss.eps\", format='eps')\n",
    "plt.show()"
   ]
  }
 ],
 "metadata": {
  "kernelspec": {
   "display_name": "Python 3.9.6 64-bit",
   "language": "python",
   "name": "python3"
  },
  "language_info": {
   "codemirror_mode": {
    "name": "ipython",
    "version": 3
   },
   "file_extension": ".py",
   "mimetype": "text/x-python",
   "name": "python",
   "nbconvert_exporter": "python",
   "pygments_lexer": "ipython3",
   "version": "3.9.6"
  },
  "orig_nbformat": 4,
  "vscode": {
   "interpreter": {
    "hash": "81794d4967e6c3204c66dcd87b604927b115b27c00565d3d43f05ba2f3a2cb0d"
   }
  }
 },
 "nbformat": 4,
 "nbformat_minor": 2
}
