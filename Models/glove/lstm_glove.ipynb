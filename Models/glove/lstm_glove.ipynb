{
 "cells": [
  {
   "cell_type": "code",
   "execution_count": 373,
   "metadata": {},
   "outputs": [],
   "source": [
    "from sklearn.model_selection import train_test_split, KFold\n",
    "import numpy as np\n",
    "import pandas as pd\n",
    "from sklearn.feature_extraction.text import TfidfVectorizer\n",
    "import pandas as pd\n",
    "from sklearn.preprocessing import LabelBinarizer\n",
    "import tensorflow as tf\n",
    "import matplotlib.pyplot as plt\n",
    "import time\n",
    "from sklearn.metrics import accuracy_score\n",
    "from sklearn.metrics import precision_recall_fscore_support as score\n",
    "from keras.models import Model\n",
    "from keras.layers import Input, LSTM, Flatten, Dense, Dropout, Embedding, Concatenate,MaxPooling1D,concatenate \n",
    "from keras.optimizers import Adam, SGD\n",
    "import tensorflow as tf\n",
    "import nltk \n",
    "from gensim.models import Word2Vec\n",
    "from nltk.tokenize import sent_tokenize, word_tokenize\n",
    "from keras.preprocessing.text import Tokenizer\n",
    "from keras_preprocessing.sequence import pad_sequences\n",
    "from numpy import zeros"
   ]
  },
  {
   "cell_type": "code",
   "execution_count": 374,
   "metadata": {},
   "outputs": [],
   "source": [
    "#Hyper Parameters\n",
    "FILE_NAME = \"../../Data/processed_data.csv\"\n",
    "LSTM_LAYER_SIZE = 50\n",
    "BATCH_SIZE = 32\n",
    "EPOCH_LENGTH = 10\n",
    "VALIDATION_PERCENTAGE = 0.1\n",
    "TEST_SIZE_PERCENTAGE = 0.2\n",
    "NUMBER_K_FOLDS = 3\n",
    "LEARNING_RATE = 0.0005\n",
    "VERBOSE = 1\n",
    "MAX_LENGTH = 20\n",
    "HIDDEN_ACTIVATION_FUNCTION = 'relu'\n",
    "OUTPUT_ACTIVATION_FUNCTION = 'softmax'\n",
    "LOSS_FUNCTION = 'categorical_crossentropy'\n",
    "METRICS=['accuracy']\n",
    "Y_LABEL_NAME=\"author\"\n",
    "X_LABEL_NAME=\"text\""
   ]
  },
  {
   "cell_type": "code",
   "execution_count": 375,
   "metadata": {},
   "outputs": [],
   "source": [
    "#Read data\n",
    "data = pd.read_csv(FILE_NAME)"
   ]
  },
  {
   "cell_type": "code",
   "execution_count": 376,
   "metadata": {},
   "outputs": [],
   "source": [
    "documents = data[X_LABEL_NAME]\n",
    "tokenizer = Tokenizer()"
   ]
  },
  {
   "cell_type": "code",
   "execution_count": 377,
   "metadata": {},
   "outputs": [],
   "source": [
    "tokenizer.fit_on_texts(documents)\n",
    "vocab_size = len(tokenizer.word_index) + 1"
   ]
  },
  {
   "cell_type": "code",
   "execution_count": 378,
   "metadata": {},
   "outputs": [],
   "source": [
    "encoded_docs = tokenizer.texts_to_sequences(documents)\n"
   ]
  },
  {
   "cell_type": "code",
   "execution_count": 379,
   "metadata": {},
   "outputs": [
    {
     "name": "stdout",
     "output_type": "stream",
     "text": [
      "[[  294     4     1 ...    98     1   429]\n",
      " [   11    89   125 ...     0     0     0]\n",
      " [  560  3702    32 ...   345   476  2690]\n",
      " ...\n",
      " [10408  5067 15798 ...     0     0     0]\n",
      " [   17    34  4660 ...     0     0     0]\n",
      " [    6  6667  6561 ...     9     2  6006]]\n"
     ]
    }
   ],
   "source": [
    "padded_docs = pad_sequences(encoded_docs, maxlen=MAX_LENGTH, padding='post')\n",
    "print(padded_docs)"
   ]
  },
  {
   "cell_type": "code",
   "execution_count": 380,
   "metadata": {},
   "outputs": [
    {
     "name": "stdout",
     "output_type": "stream",
     "text": [
      "861\n"
     ]
    }
   ],
   "source": [
    "max_length_for_padding=[] \n",
    "for i in encoded_docs:  \n",
    "  max_length_for_padding.append(len(i))  \n",
    "print(max(max_length_for_padding))"
   ]
  },
  {
   "cell_type": "code",
   "execution_count": 381,
   "metadata": {},
   "outputs": [],
   "source": [
    "#Defining model\n",
    "def define_model(input_size, output_size, verbose = True, lstm_layer_size = 50,\n",
    "                 hidden_activation_fn = 'relu', output_activation_fn='softmax',\n",
    "                 learning = 0.0005, loss_function = 'categorical_crossentropy', metrics = ['accuracy']):\n",
    "    \n",
    "  \n",
    "    inputs = Input(shape = (1,input_size))\n",
    "    emb_lay = Embedding(vocab_size, 100, input_length=MAX_LENGTH)(inputs)\n",
    "    lstm = LSTM(lstm_layer_size, activation=hidden_activation_fn)(emb_lay)\n",
    "    flat1 = Flatten()(lstm)\n",
    "\n",
    "    output = Dense(units=output_size, activation=output_activation_fn)(flat1)\n",
    "  \n",
    "    \n",
    "    # Create model\n",
    "    model = Model(inputs = [inputs], outputs = [output])\n",
    "    \n",
    "    # Compile model\n",
    "    model.compile(loss=loss_function, optimizer = Adam(learning_rate = learning), metrics=metrics)\n",
    "    \n",
    "    if verbose:\n",
    "        print(model.summary())\n",
    "\n",
    "    return model"
   ]
  },
  {
   "cell_type": "code",
   "execution_count": 382,
   "metadata": {},
   "outputs": [
    {
     "name": "stdout",
     "output_type": "stream",
     "text": [
      "Loaded 400000 word vectors.\n"
     ]
    }
   ],
   "source": [
    "# load the whole embedding into memory\n",
    "embeddings_index = dict()\n",
    "f = open('../embeddings/glove.6B.100d.txt',encoding=\"utf8\")\n",
    "for line in f:\n",
    "\tvalues = line.split()\n",
    "\tword = values[0]\n",
    "\tcoefs = np.asarray(values[1:], dtype='float32')\n",
    "\tembeddings_index[word] = coefs\n",
    "f.close()\n",
    "print('Loaded %s word vectors.' % len(embeddings_index))"
   ]
  },
  {
   "cell_type": "code",
   "execution_count": 383,
   "metadata": {},
   "outputs": [],
   "source": [
    "# create a weight matrix for words in training docs\n",
    "embedding_matrix = zeros((vocab_size, 100))\n",
    "for word, i in tokenizer.word_index.items():\n",
    "\tembedding_vector = embeddings_index.get(word)\n",
    "\tif embedding_vector is not None:\n",
    "\t\tembedding_matrix[i] = embedding_vector"
   ]
  },
  {
   "cell_type": "code",
   "execution_count": 384,
   "metadata": {},
   "outputs": [],
   "source": [
    "\n",
    "#Defining model\n",
    "def define_model(input_size, output_size, verbose = True, lstm_layer_size = 50,\n",
    "                 hidden_activation_fn = 'relu', output_activation_fn='softmax',\n",
    "                 learning = 0.0005, loss_function = 'categorical_crossentropy', metrics = ['accuracy']):\n",
    "    \n",
    "  \n",
    "    # define model\n",
    "    input =  Input(shape=(input_size,))\n",
    "    emb_lay = Embedding(vocab_size, 100,weights=[embedding_matrix], input_length=MAX_LENGTH, trainable=True)(input)\n",
    "    lstm = LSTM(lstm_layer_size, activation=hidden_activation_fn)(emb_lay)\n",
    "    flat1 = Flatten()(lstm)\n",
    "    output=Dense(units=output_size, activation=output_activation_fn)(flat1)\n",
    "\n",
    "    # Create model\n",
    "    model = Model(inputs = [input], outputs = [output])\n",
    "    \n",
    "    # Compile model\n",
    "    model.compile(loss=loss_function, optimizer = Adam(learning_rate = learning), metrics=metrics)\n",
    "    \n",
    "    if verbose:\n",
    "        print(model.summary())\n",
    "\n",
    "    return model\n",
    "\n",
    "\n",
    " "
   ]
  },
  {
   "cell_type": "code",
   "execution_count": 385,
   "metadata": {},
   "outputs": [],
   "source": [
    "#Get corpus and y label\n",
    "text = data[X_LABEL_NAME]\n",
    "author = data[Y_LABEL_NAME]"
   ]
  },
  {
   "cell_type": "code",
   "execution_count": 386,
   "metadata": {},
   "outputs": [],
   "source": [
    "#Split data\n",
    "text_train, text_test, author_train, author_test = train_test_split(text, author, test_size = TEST_SIZE_PERCENTAGE, random_state = 5)"
   ]
  },
  {
   "cell_type": "code",
   "execution_count": 387,
   "metadata": {},
   "outputs": [],
   "source": [
    "X_train= tokenizer.texts_to_sequences(text_train)\n",
    "X_train =  pad_sequences(X_train, maxlen=MAX_LENGTH, padding='post')"
   ]
  },
  {
   "cell_type": "code",
   "execution_count": 388,
   "metadata": {},
   "outputs": [],
   "source": [
    "\n",
    "X_test= tokenizer.texts_to_sequences(text_test)\n",
    "X_test =  pad_sequences(X_test, maxlen=MAX_LENGTH, padding='post')"
   ]
  },
  {
   "cell_type": "code",
   "execution_count": 389,
   "metadata": {},
   "outputs": [],
   "source": [
    "\n",
    "#Get input and output dimensions\n",
    "input_size = X_train.shape[1]\n",
    "output_size = len(author.unique())"
   ]
  },
  {
   "cell_type": "code",
   "execution_count": 390,
   "metadata": {},
   "outputs": [],
   "source": [
    "# One hot encode y labels\n",
    "author_lb = LabelBinarizer()\n",
    "author_lb.fit(author_train)\n",
    "author_train_hot = author_lb.transform(author_train)\n",
    "author_test_hot = author_lb.transform(author_test)"
   ]
  },
  {
   "cell_type": "code",
   "execution_count": 391,
   "metadata": {},
   "outputs": [
    {
     "name": "stdout",
     "output_type": "stream",
     "text": [
      "(15663, 20)\n",
      "(3916, 20)\n",
      "(15663,)\n",
      "(3916,)\n"
     ]
    }
   ],
   "source": [
    "print(np.shape(X_train))\n",
    "print(np.shape(X_test))\n",
    "print(np.shape(author_train))\n",
    "print(np.shape(author_test))"
   ]
  },
  {
   "cell_type": "code",
   "execution_count": 392,
   "metadata": {},
   "outputs": [
    {
     "name": "stdout",
     "output_type": "stream",
     "text": [
      "(15663, 20)\n",
      "(3916, 20)\n"
     ]
    }
   ],
   "source": [
    "print(np.shape(X_train))\n",
    "print(np.shape(X_test))"
   ]
  },
  {
   "cell_type": "code",
   "execution_count": 393,
   "metadata": {},
   "outputs": [
    {
     "name": "stdout",
     "output_type": "stream",
     "text": [
      "Run: 1\n",
      "Epoch 1/10\n",
      "294/294 [==============================] - 10s 30ms/step - loss: 0.9685 - accuracy: 0.5313 - val_loss: 0.8404 - val_accuracy: 0.6306\n",
      "Epoch 2/10\n",
      "294/294 [==============================] - 9s 30ms/step - loss: 0.7276 - accuracy: 0.6850 - val_loss: 0.7515 - val_accuracy: 0.6967\n",
      "Epoch 3/10\n",
      "294/294 [==============================] - 9s 29ms/step - loss: 0.5643 - accuracy: 0.7689 - val_loss: 0.6768 - val_accuracy: 0.7359\n",
      "Epoch 4/10\n",
      "294/294 [==============================] - 9s 29ms/step - loss: 0.4188 - accuracy: 0.8414 - val_loss: 0.6451 - val_accuracy: 0.7464\n",
      "Epoch 5/10\n",
      "294/294 [==============================] - 9s 29ms/step - loss: 0.2935 - accuracy: 0.8899 - val_loss: 0.7865 - val_accuracy: 0.7388\n",
      "Epoch 6/10\n",
      "294/294 [==============================] - 9s 29ms/step - loss: 0.2075 - accuracy: 0.9256 - val_loss: 1.0808 - val_accuracy: 0.7397\n",
      "Epoch 7/10\n",
      "294/294 [==============================] - 9s 30ms/step - loss: 0.1321 - accuracy: 0.9525 - val_loss: 1.4169 - val_accuracy: 0.7234\n",
      "Epoch 8/10\n",
      "294/294 [==============================] - 9s 29ms/step - loss: 0.0983 - accuracy: 0.9669 - val_loss: 1.1768 - val_accuracy: 0.7426\n",
      "Epoch 9/10\n",
      "294/294 [==============================] - 9s 30ms/step - loss: 0.0636 - accuracy: 0.9790 - val_loss: 1.5823 - val_accuracy: 0.7273\n",
      "Epoch 10/10\n",
      "294/294 [==============================] - 9s 30ms/step - loss: 0.0465 - accuracy: 0.9853 - val_loss: 2.2334 - val_accuracy: 0.7340\n",
      "123/123 [==============================] - 1s 4ms/step\n",
      "Run: 2\n",
      "Epoch 1/10\n",
      "294/294 [==============================] - 10s 31ms/step - loss: 0.9776 - accuracy: 0.5206 - val_loss: 0.8657 - val_accuracy: 0.6220\n",
      "Epoch 2/10\n",
      "294/294 [==============================] - 9s 30ms/step - loss: 0.7327 - accuracy: 0.6895 - val_loss: 0.7201 - val_accuracy: 0.6995\n",
      "Epoch 3/10\n",
      "294/294 [==============================] - 9s 29ms/step - loss: 0.5446 - accuracy: 0.7774 - val_loss: 0.6619 - val_accuracy: 0.7407\n",
      "Epoch 4/10\n",
      "294/294 [==============================] - 9s 29ms/step - loss: 0.3931 - accuracy: 0.8444 - val_loss: 0.6805 - val_accuracy: 0.7646\n",
      "Epoch 5/10\n",
      "294/294 [==============================] - 9s 30ms/step - loss: 0.2648 - accuracy: 0.8967 - val_loss: 0.7307 - val_accuracy: 0.7780\n",
      "Epoch 6/10\n",
      "294/294 [==============================] - 9s 30ms/step - loss: 0.2345 - accuracy: 0.9302 - val_loss: 0.9923 - val_accuracy: 0.7368\n",
      "Epoch 7/10\n",
      "294/294 [==============================] - 9s 30ms/step - loss: 0.1265 - accuracy: 0.9565 - val_loss: 1.1672 - val_accuracy: 0.7321\n",
      "Epoch 8/10\n",
      "294/294 [==============================] - 9s 30ms/step - loss: 0.0805 - accuracy: 0.9722 - val_loss: 1.5389 - val_accuracy: 0.7321\n",
      "Epoch 9/10\n",
      "294/294 [==============================] - 9s 30ms/step - loss: 0.0585 - accuracy: 0.9813 - val_loss: 1.3514 - val_accuracy: 0.7589\n",
      "Epoch 10/10\n",
      "294/294 [==============================] - 9s 29ms/step - loss: 0.0503 - accuracy: 0.9847 - val_loss: 2.0561 - val_accuracy: 0.7388\n",
      "123/123 [==============================] - 1s 4ms/step\n",
      "Run: 3\n",
      "Epoch 1/10\n",
      "294/294 [==============================] - 10s 30ms/step - loss: 0.9820 - accuracy: 0.5163 - val_loss: 0.8530 - val_accuracy: 0.6153\n",
      "Epoch 2/10\n",
      "294/294 [==============================] - 8s 29ms/step - loss: 0.7519 - accuracy: 0.6792 - val_loss: 0.7834 - val_accuracy: 0.6766\n",
      "Epoch 3/10\n",
      "294/294 [==============================] - 8s 29ms/step - loss: 0.5720 - accuracy: 0.7688 - val_loss: 0.6923 - val_accuracy: 0.7234\n",
      "Epoch 4/10\n",
      "294/294 [==============================] - 8s 29ms/step - loss: 0.4209 - accuracy: 0.8361 - val_loss: 0.7196 - val_accuracy: 0.7206\n",
      "Epoch 5/10\n",
      "294/294 [==============================] - 8s 29ms/step - loss: 0.2926 - accuracy: 0.8899 - val_loss: 0.7887 - val_accuracy: 0.7426\n",
      "Epoch 6/10\n",
      "294/294 [==============================] - 9s 29ms/step - loss: 0.1894 - accuracy: 0.9309 - val_loss: 0.8411 - val_accuracy: 0.7148\n",
      "Epoch 7/10\n",
      "294/294 [==============================] - 8s 29ms/step - loss: 0.1392 - accuracy: 0.9502 - val_loss: 1.1366 - val_accuracy: 0.7234\n",
      "Epoch 8/10\n",
      "294/294 [==============================] - 8s 29ms/step - loss: 0.0909 - accuracy: 0.9681 - val_loss: 1.2950 - val_accuracy: 0.7321\n",
      "Epoch 9/10\n",
      "294/294 [==============================] - 8s 28ms/step - loss: 0.0691 - accuracy: 0.9779 - val_loss: 1.6863 - val_accuracy: 0.7263\n",
      "Epoch 10/10\n",
      "294/294 [==============================] - 8s 29ms/step - loss: 0.0476 - accuracy: 0.9847 - val_loss: 1.7255 - val_accuracy: 0.7282\n",
      "123/123 [==============================] - 1s 4ms/step\n",
      "Test Accuracy: [0.7374872318692544, 0.7313585291113381, 0.7372318692543411]\n",
      "Ave. Precision: [0.7379021429646184, 0.732237723929402, 0.7378290603673419]\n",
      "Ave. Recall: [0.7374872318692545, 0.7313585291113381, 0.7372318692543413]\n",
      "Ave. F1 Score: [0.7370762450196283, 0.7313198721983024, 0.7373777550345517]\n"
     ]
    }
   ],
   "source": [
    "# Sets seed\n",
    "np.random.seed(28)\n",
    "kf = KFold(n_splits = NUMBER_K_FOLDS)\n",
    "\n",
    "test_accuracy_list = []\n",
    "prec_list = []\n",
    "recall_list = []\n",
    "f1_list = []\n",
    "training_time_list = []\n",
    "prediction_time_list = []\n",
    "full_history =[]\n",
    "\n",
    "run = 0\n",
    "\n",
    "\n",
    "for train_inds, _ in kf.split(X_train):\n",
    "    run += 1\n",
    "    print('Run:', run)\n",
    "       \n",
    "    train_x = np.array([X_train[i] for i in train_inds])\n",
    "    train_y = np.array([author_train_hot[i] for i in train_inds])\n",
    "       \n",
    "    t0 = time.time()\n",
    "    # Fit model\n",
    "    cnn_model = define_model(input_size= input_size, output_size= output_size, verbose = False,\n",
    "                      lstm_layer_size = LSTM_LAYER_SIZE, hidden_activation_fn = HIDDEN_ACTIVATION_FUNCTION,\n",
    "                      output_activation_fn = OUTPUT_ACTIVATION_FUNCTION, learning=LEARNING_RATE, loss_function = LOSS_FUNCTION, metrics=METRICS)\n",
    "\n",
    "    histroy = cnn_model.fit(train_x, train_y, epochs=EPOCH_LENGTH, batch_size=BATCH_SIZE, verbose = VERBOSE,validation_split = VALIDATION_PERCENTAGE)\n",
    "  \n",
    "    t1 = time.time()\n",
    "    \n",
    "    # Predict values for test set\n",
    "    author_pred1 = cnn_model.predict(X_test)\n",
    "    author_pred1 = author_lb.inverse_transform(author_pred1)\n",
    "\n",
    "    t2 = time.time()\n",
    "\n",
    "    # Evaluate\n",
    "    test_accuracy = accuracy_score(author_test, author_pred1)\n",
    "    precision, recall, f1, support = score(author_test, author_pred1)\n",
    "    ave_precision = np.average(precision, weights = support/np.sum(support))\n",
    "    ave_recall = np.average(recall, weights = support/np.sum(support))\n",
    "    ave_f1 = np.average(f1, weights = support/np.sum(support))\n",
    "    training_time = (t1 - t0)\n",
    "    prediction_time = (t2 - t1)\n",
    "    \n",
    "    test_accuracy_list.append(test_accuracy)\n",
    "    prec_list.append(ave_precision)\n",
    "    recall_list.append(ave_recall)\n",
    "    f1_list.append(ave_f1)\n",
    "    training_time_list.append(training_time)\n",
    "    prediction_time_list.append(prediction_time)\n",
    "    full_history.append(histroy)\n",
    "\n",
    "print(\"Test Accuracy:\", test_accuracy_list)\n",
    "print(\"Ave. Precision:\", prec_list)\n",
    "print(\"Ave. Recall:\", recall_list)\n",
    "print(\"Ave. F1 Score:\", f1_list)"
   ]
  },
  {
   "cell_type": "code",
   "execution_count": 394,
   "metadata": {},
   "outputs": [
    {
     "name": "stdout",
     "output_type": "stream",
     "text": [
      "Average Accuracy across K-folds: 0.7353592100783112\n",
      "Average Precision across K-folds: 0.7359896424204541\n",
      "Average Recall across K-folds: 0.7353592100783114\n",
      "Average F1 Score across K-folds: 0.7352579574174941\n",
      "Average Training Time across K-folds: 85.84400153160095 seconds\n",
      "Prediction Time across K-folds: 0.6329994201660156 seconds\n"
     ]
    }
   ],
   "source": [
    "#Get averages for kfold runs\n",
    "mean_accuracy_across_kfold = np.mean(test_accuracy_list)\n",
    "mean_percision_across_kfold = np.mean(prec_list)\n",
    "mean_recall_across_kfold = np.mean(recall_list)\n",
    "mean_f1_across_kfold = np.mean(f1_list)\n",
    "\n",
    "\n",
    "print(\"Average Accuracy across K-folds:\", mean_accuracy_across_kfold)\n",
    "print(\"Average Precision across K-folds:\", mean_percision_across_kfold)\n",
    "print(\"Average Recall across K-folds:\", mean_recall_across_kfold)\n",
    "print(\"Average F1 Score across K-folds:\", mean_f1_across_kfold)\n",
    "print(\"Average Training Time across K-folds:\", (t1 - t0), \"seconds\")\n",
    "print(\"Prediction Time across K-folds:\", (t2 - t1), \"seconds\")"
   ]
  },
  {
   "cell_type": "code",
   "execution_count": 395,
   "metadata": {},
   "outputs": [],
   "source": [
    "average_test_loss_accross_kfold = []\n",
    "average_validation_loss_accross_kfold = []\n",
    "average_test_accuracy_accross_kfold = []\n",
    "average_validation_accuracy_accross_kfold = []\n",
    "\n",
    "for i in range(len(full_history)):\n",
    "    average_test_loss_accross_kfold.append(full_history[i].history['loss'])\n",
    "    average_validation_loss_accross_kfold.append(full_history[i].history['val_loss'])\n",
    "\n",
    "    average_test_accuracy_accross_kfold.append(full_history[i].history['accuracy'])\n",
    "    average_validation_accuracy_accross_kfold.append(full_history[i].history['val_accuracy'])\n",
    "\n",
    "average_loss_accross_kfold = np.mean(average_test_loss_accross_kfold,axis=0)\n",
    "average_validation_loss_accross_kfold = np.mean(average_validation_loss_accross_kfold,axis=0)\n",
    "\n",
    "average_accuracy_accross_kfold = np.mean(average_test_accuracy_accross_kfold,axis=0)\n",
    "average_validation_accuracy_accross_kfold = np.mean(average_validation_accuracy_accross_kfold,axis=0)"
   ]
  },
  {
   "cell_type": "code",
   "execution_count": 396,
   "metadata": {},
   "outputs": [
    {
     "name": "stderr",
     "output_type": "stream",
     "text": [
      "The PostScript backend does not support transparency; partially transparent artists will be rendered opaque.\n"
     ]
    },
    {
     "data": {
      "image/png": "[encoded data removed]",
      "text/plain": [
       "<Figure size 640x480 with 1 Axes>"
      ]
     },
     "metadata": {},
     "output_type": "display_data"
    }
   ],
   "source": [
    "# summarize history for accuracy\n",
    "plt.plot(average_accuracy_accross_kfold)\n",
    "plt.plot(average_validation_accuracy_accross_kfold)\n",
    "plt.title('LSTM Neural Network Accuracy (glove)')\n",
    "plt.ylabel('accuracy')\n",
    "plt.xlabel('epoch')\n",
    "plt.legend(['Train', 'Validation'], loc='upper left')\n",
    "plt.savefig(\"../outputs/lstm_neural_network_glove_acc.eps\", format='eps')\n",
    "plt.show()"
   ]
  },
  {
   "cell_type": "code",
   "execution_count": 397,
   "metadata": {},
   "outputs": [
    {
     "name": "stderr",
     "output_type": "stream",
     "text": [
      "The PostScript backend does not support transparency; partially transparent artists will be rendered opaque.\n"
     ]
    },
    {
     "data": {
      "image/png": "[encoded data removed]",
      "text/plain": [
       "<Figure size 640x480 with 1 Axes>"
      ]
     },
     "metadata": {},
     "output_type": "display_data"
    }
   ],
   "source": [
    "# summarize history for loss\n",
    "plt.plot(average_loss_accross_kfold)\n",
    "plt.plot(average_validation_loss_accross_kfold)\n",
    "plt.title('LSTM Neural Network Loss (glove)')\n",
    "plt.ylabel('loss')\n",
    "plt.xlabel('epoch')\n",
    "plt.legend(['Train', 'Validation'], loc='upper left')\n",
    "plt.savefig(\"../outputs/lstm_neural_network_glove_loss.eps\", format='eps')\n",
    "plt.show()"
   ]
  }
 ],
 "metadata": {
  "kernelspec": {
   "display_name": "Python 3.9.6 64-bit",
   "language": "python",
   "name": "python3"
  },
  "language_info": {
   "codemirror_mode": {
    "name": "ipython",
    "version": 3
   },
   "file_extension": ".py",
   "mimetype": "text/x-python",
   "name": "python",
   "nbconvert_exporter": "python",
   "pygments_lexer": "ipython3",
   "version": "3.9.6"
  },
  "orig_nbformat": 4,
  "vscode": {
   "interpreter": {
    "hash": "81794d4967e6c3204c66dcd87b604927b115b27c00565d3d43f05ba2f3a2cb0d"
   }
  }
 },
 "nbformat": 4,
 "nbformat_minor": 2
}
