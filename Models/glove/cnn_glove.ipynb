{
 "cells": [
  {
   "cell_type": "code",
   "execution_count": 46,
   "metadata": {},
   "outputs": [],
   "source": [
    "from sklearn.model_selection import train_test_split, KFold\n",
    "import numpy as np\n",
    "import pandas as pd\n",
    "from sklearn.feature_extraction.text import TfidfVectorizer\n",
    "import pandas as pd\n",
    "from sklearn.preprocessing import LabelBinarizer\n",
    "import tensorflow as tf\n",
    "import matplotlib.pyplot as plt\n",
    "import time\n",
    "from sklearn.metrics import accuracy_score\n",
    "from sklearn.metrics import precision_recall_fscore_support as score\n",
    "from keras.models import Model\n",
    "from keras.layers import Input, Convolution1D, Flatten, Dense, Dropout, Embedding, Concatenate,MaxPooling1D,concatenate \n",
    "from keras.optimizers import Adam, SGD\n",
    "import tensorflow as tf\n",
    "import nltk \n",
    "from gensim.models import Word2Vec\n",
    "from nltk.tokenize import sent_tokenize, word_tokenize\n",
    "from keras.preprocessing.text import Tokenizer\n",
    "from keras_preprocessing.sequence import pad_sequences\n",
    "from numpy import zeros"
   ]
  },
  {
   "cell_type": "code",
   "execution_count": 47,
   "metadata": {},
   "outputs": [],
   "source": [
    "#Hyper Parameters\n",
    "FILE_NAME = \"../../Data/processed_data.csv\"\n",
    "CNN_LAYER_SIZE =50\n",
    "BATCH_SIZE = 32\n",
    "EPOCH_LENGTH = 10\n",
    "VALIDATION_PERCENTAGE = 0.1\n",
    "TEST_SIZE_PERCENTAGE = 0.2\n",
    "NUMBER_K_FOLDS = 3\n",
    "LEARNING_RATE = 0.0005\n",
    "VERBOSE = 1\n",
    "MAX_LENGTH = 20\n",
    "HIDDEN_ACTIVATION_FUNCTION = 'relu'\n",
    "OUTPUT_ACTIVATION_FUNCTION = 'softmax'\n",
    "LOSS_FUNCTION = 'categorical_crossentropy'\n",
    "METRICS=['accuracy']\n",
    "Y_LABEL_NAME=\"author\"\n",
    "X_LABEL_NAME=\"text\""
   ]
  },
  {
   "cell_type": "code",
   "execution_count": 48,
   "metadata": {},
   "outputs": [],
   "source": [
    "#Read data\n",
    "data = pd.read_csv(FILE_NAME)"
   ]
  },
  {
   "cell_type": "code",
   "execution_count": 49,
   "metadata": {},
   "outputs": [],
   "source": [
    "documents = data[X_LABEL_NAME]\n",
    "tokenizer = Tokenizer()"
   ]
  },
  {
   "cell_type": "code",
   "execution_count": 50,
   "metadata": {},
   "outputs": [],
   "source": [
    "tokenizer.fit_on_texts(documents)\n",
    "vocab_size = len(tokenizer.word_index) + 1"
   ]
  },
  {
   "cell_type": "code",
   "execution_count": 51,
   "metadata": {},
   "outputs": [],
   "source": [
    "encoded_docs = tokenizer.texts_to_sequences(documents)\n"
   ]
  },
  {
   "cell_type": "code",
   "execution_count": 52,
   "metadata": {},
   "outputs": [
    {
     "name": "stdout",
     "output_type": "stream",
     "text": [
      "[[  294     4     1 ...    98     1   429]\n",
      " [   11    89   125 ...     0     0     0]\n",
      " [  560  3702    32 ...   345   476  2690]\n",
      " ...\n",
      " [10408  5067 15798 ...     0     0     0]\n",
      " [   17    34  4660 ...     0     0     0]\n",
      " [    6  6667  6561 ...     9     2  6006]]\n"
     ]
    }
   ],
   "source": [
    "padded_docs = pad_sequences(encoded_docs, maxlen=MAX_LENGTH, padding='post')\n",
    "print(padded_docs)"
   ]
  },
  {
   "cell_type": "code",
   "execution_count": 53,
   "metadata": {},
   "outputs": [
    {
     "name": "stdout",
     "output_type": "stream",
     "text": [
      "861\n"
     ]
    }
   ],
   "source": [
    "max_length_for_padding=[] \n",
    "for i in encoded_docs:  \n",
    "  max_length_for_padding.append(len(i))  \n",
    "print(max(max_length_for_padding))"
   ]
  },
  {
   "cell_type": "code",
   "execution_count": 54,
   "metadata": {},
   "outputs": [
    {
     "name": "stdout",
     "output_type": "stream",
     "text": [
      "Loaded 400000 word vectors.\n"
     ]
    }
   ],
   "source": [
    "# load the whole embedding into memory\n",
    "embeddings_index = dict()\n",
    "f = open('../embeddings/glove.6B.100d.txt',encoding=\"utf8\")\n",
    "for line in f:\n",
    "\tvalues = line.split()\n",
    "\tword = values[0]\n",
    "\tcoefs = np.asarray(values[1:], dtype='float32')\n",
    "\tembeddings_index[word] = coefs\n",
    "f.close()\n",
    "print('Loaded %s word vectors.' % len(embeddings_index))"
   ]
  },
  {
   "cell_type": "code",
   "execution_count": 55,
   "metadata": {},
   "outputs": [],
   "source": [
    "# create a weight matrix for words in training docs\n",
    "embedding_matrix = zeros((vocab_size, 100))\n",
    "for word, i in tokenizer.word_index.items():\n",
    "\tembedding_vector = embeddings_index.get(word)\n",
    "\tif embedding_vector is not None:\n",
    "\t\tembedding_matrix[i] = embedding_vector"
   ]
  },
  {
   "cell_type": "code",
   "execution_count": 56,
   "metadata": {},
   "outputs": [],
   "source": [
    "\n",
    "#Defining model\n",
    "def define_model(input_size, output_size, verbose = True, cnn_layer_size = 50,\n",
    "                 hidden_activation_fn = 'relu', output_activation_fn='softmax',\n",
    "                 learning = 0.0005, loss_function = 'categorical_crossentropy', metrics = ['accuracy']):\n",
    "    \n",
    "  \n",
    "    # define model\n",
    "    input =  Input(shape=(input_size,))\n",
    "    emb_lay = Embedding(vocab_size, 100,weights=[embedding_matrix], input_length=MAX_LENGTH, trainable=True)(input)\n",
    "    conv = Convolution1D(filters = cnn_layer_size, kernel_size = 1, activation=hidden_activation_fn)(emb_lay)\n",
    "    flat1 = Flatten()(conv)\n",
    "    output=Dense(units=output_size, activation=output_activation_fn)(flat1)\n",
    "\n",
    "    # Create model\n",
    "    model = Model(inputs = [input], outputs = [output])\n",
    "    \n",
    "    # Compile model\n",
    "    model.compile(loss=loss_function, optimizer = Adam(learning_rate = learning), metrics=metrics)\n",
    "    \n",
    "    if verbose:\n",
    "        print(model.summary())\n",
    "\n",
    "    return model\n",
    "\n",
    "\n",
    " "
   ]
  },
  {
   "cell_type": "code",
   "execution_count": 57,
   "metadata": {},
   "outputs": [],
   "source": [
    "#Get corpus and y label\n",
    "text = data[X_LABEL_NAME]\n",
    "author = data[Y_LABEL_NAME]"
   ]
  },
  {
   "cell_type": "code",
   "execution_count": 58,
   "metadata": {},
   "outputs": [],
   "source": [
    "#Split data\n",
    "text_train, text_test, author_train, author_test = train_test_split(text, author, test_size = TEST_SIZE_PERCENTAGE, random_state = 5)"
   ]
  },
  {
   "cell_type": "code",
   "execution_count": 59,
   "metadata": {},
   "outputs": [],
   "source": [
    "X_train= tokenizer.texts_to_sequences(text_train)\n",
    "X_train =  pad_sequences(X_train, maxlen=MAX_LENGTH, padding='post')"
   ]
  },
  {
   "cell_type": "code",
   "execution_count": 60,
   "metadata": {},
   "outputs": [],
   "source": [
    "\n",
    "X_test= tokenizer.texts_to_sequences(text_test)\n",
    "X_test =  pad_sequences(X_test, maxlen=MAX_LENGTH, padding='post')"
   ]
  },
  {
   "cell_type": "code",
   "execution_count": 61,
   "metadata": {},
   "outputs": [],
   "source": [
    "\n",
    "#Get input and output dimensions\n",
    "input_size = X_train.shape[1]\n",
    "output_size = len(author.unique())"
   ]
  },
  {
   "cell_type": "code",
   "execution_count": 62,
   "metadata": {},
   "outputs": [],
   "source": [
    "# One hot encode y labels\n",
    "author_lb = LabelBinarizer()\n",
    "author_lb.fit(author_train)\n",
    "author_train_hot = author_lb.transform(author_train)\n",
    "author_test_hot = author_lb.transform(author_test)"
   ]
  },
  {
   "cell_type": "code",
   "execution_count": 63,
   "metadata": {},
   "outputs": [
    {
     "name": "stdout",
     "output_type": "stream",
     "text": [
      "(15663, 20)\n",
      "(3916, 20)\n",
      "(15663,)\n",
      "(3916,)\n"
     ]
    }
   ],
   "source": [
    "print(np.shape(X_train))\n",
    "print(np.shape(X_test))\n",
    "print(np.shape(author_train))\n",
    "print(np.shape(author_test))"
   ]
  },
  {
   "cell_type": "code",
   "execution_count": 64,
   "metadata": {},
   "outputs": [
    {
     "name": "stdout",
     "output_type": "stream",
     "text": [
      "(15663, 20)\n",
      "(3916, 20)\n"
     ]
    }
   ],
   "source": [
    "print(np.shape(X_train))\n",
    "print(np.shape(X_test))"
   ]
  },
  {
   "cell_type": "code",
   "execution_count": 65,
   "metadata": {},
   "outputs": [
    {
     "name": "stdout",
     "output_type": "stream",
     "text": [
      "Run: 1\n",
      "Epoch 1/10\n",
      "294/294 [==============================] - 6s 21ms/step - loss: 1.0392 - accuracy: 0.4741 - val_loss: 0.9666 - val_accuracy: 0.5407\n",
      "Epoch 2/10\n",
      "294/294 [==============================] - 6s 20ms/step - loss: 0.8512 - accuracy: 0.6242 - val_loss: 0.8561 - val_accuracy: 0.6201\n",
      "Epoch 3/10\n",
      "294/294 [==============================] - 6s 20ms/step - loss: 0.7060 - accuracy: 0.7111 - val_loss: 0.7958 - val_accuracy: 0.6584\n",
      "Epoch 4/10\n",
      "294/294 [==============================] - 6s 20ms/step - loss: 0.5680 - accuracy: 0.7820 - val_loss: 0.7481 - val_accuracy: 0.6775\n",
      "Epoch 5/10\n",
      "294/294 [==============================] - 6s 20ms/step - loss: 0.4450 - accuracy: 0.8464 - val_loss: 0.7195 - val_accuracy: 0.7062\n",
      "Epoch 6/10\n",
      "294/294 [==============================] - 6s 19ms/step - loss: 0.3412 - accuracy: 0.8906 - val_loss: 0.7054 - val_accuracy: 0.7100\n",
      "Epoch 7/10\n",
      "294/294 [==============================] - 6s 20ms/step - loss: 0.2530 - accuracy: 0.9299 - val_loss: 0.7130 - val_accuracy: 0.7206\n",
      "Epoch 8/10\n",
      "294/294 [==============================] - 6s 19ms/step - loss: 0.1868 - accuracy: 0.9520 - val_loss: 0.7148 - val_accuracy: 0.7292\n",
      "Epoch 9/10\n",
      "294/294 [==============================] - 6s 19ms/step - loss: 0.1359 - accuracy: 0.9695 - val_loss: 0.7474 - val_accuracy: 0.7311\n",
      "Epoch 10/10\n",
      "294/294 [==============================] - 6s 20ms/step - loss: 0.1000 - accuracy: 0.9799 - val_loss: 0.7665 - val_accuracy: 0.7311\n",
      "123/123 [==============================] - 0s 795us/step\n",
      "Run: 2\n",
      "Epoch 1/10\n",
      "294/294 [==============================] - 6s 20ms/step - loss: 1.0133 - accuracy: 0.4913 - val_loss: 0.9374 - val_accuracy: 0.5550\n",
      "Epoch 2/10\n",
      "294/294 [==============================] - 6s 20ms/step - loss: 0.8205 - accuracy: 0.6425 - val_loss: 0.8376 - val_accuracy: 0.6249\n",
      "Epoch 3/10\n",
      "294/294 [==============================] - 6s 20ms/step - loss: 0.6616 - accuracy: 0.7301 - val_loss: 0.7688 - val_accuracy: 0.6679\n",
      "Epoch 4/10\n",
      "294/294 [==============================] - 6s 20ms/step - loss: 0.5246 - accuracy: 0.7995 - val_loss: 0.7001 - val_accuracy: 0.7110\n",
      "Epoch 5/10\n",
      "294/294 [==============================] - 6s 20ms/step - loss: 0.4014 - accuracy: 0.8625 - val_loss: 0.6719 - val_accuracy: 0.7187\n",
      "Epoch 6/10\n",
      "294/294 [==============================] - 6s 20ms/step - loss: 0.3016 - accuracy: 0.9068 - val_loss: 0.6643 - val_accuracy: 0.7321\n",
      "Epoch 7/10\n",
      "294/294 [==============================] - 6s 20ms/step - loss: 0.2203 - accuracy: 0.9401 - val_loss: 0.6641 - val_accuracy: 0.7340\n",
      "Epoch 8/10\n",
      "294/294 [==============================] - 6s 20ms/step - loss: 0.1607 - accuracy: 0.9605 - val_loss: 0.6754 - val_accuracy: 0.7483\n",
      "Epoch 9/10\n",
      "294/294 [==============================] - 6s 20ms/step - loss: 0.1151 - accuracy: 0.9757 - val_loss: 0.6924 - val_accuracy: 0.7493\n",
      "Epoch 10/10\n",
      "294/294 [==============================] - 6s 19ms/step - loss: 0.0828 - accuracy: 0.9858 - val_loss: 0.7183 - val_accuracy: 0.7445\n",
      "123/123 [==============================] - 0s 680us/step\n",
      "Run: 3\n",
      "Epoch 1/10\n",
      "294/294 [==============================] - 6s 20ms/step - loss: 1.0397 - accuracy: 0.4694 - val_loss: 0.9604 - val_accuracy: 0.5617\n",
      "Epoch 2/10\n",
      "294/294 [==============================] - 6s 20ms/step - loss: 0.8401 - accuracy: 0.6312 - val_loss: 0.8706 - val_accuracy: 0.6211\n",
      "Epoch 3/10\n",
      "294/294 [==============================] - 6s 20ms/step - loss: 0.6872 - accuracy: 0.7213 - val_loss: 0.8200 - val_accuracy: 0.6325\n",
      "Epoch 4/10\n",
      "294/294 [==============================] - 6s 20ms/step - loss: 0.5515 - accuracy: 0.7876 - val_loss: 0.7695 - val_accuracy: 0.6651\n",
      "Epoch 5/10\n",
      "294/294 [==============================] - 6s 20ms/step - loss: 0.4301 - accuracy: 0.8511 - val_loss: 0.7548 - val_accuracy: 0.6842\n",
      "Epoch 6/10\n",
      "294/294 [==============================] - 6s 20ms/step - loss: 0.3293 - accuracy: 0.8963 - val_loss: 0.7460 - val_accuracy: 0.6909\n",
      "Epoch 7/10\n",
      "294/294 [==============================] - 6s 20ms/step - loss: 0.2453 - accuracy: 0.9306 - val_loss: 0.7567 - val_accuracy: 0.6995\n",
      "Epoch 8/10\n",
      "294/294 [==============================] - 6s 20ms/step - loss: 0.1796 - accuracy: 0.9564 - val_loss: 0.7788 - val_accuracy: 0.7014\n",
      "Epoch 9/10\n",
      "294/294 [==============================] - 6s 20ms/step - loss: 0.1311 - accuracy: 0.9715 - val_loss: 0.8043 - val_accuracy: 0.7053\n",
      "Epoch 10/10\n",
      "294/294 [==============================] - 6s 20ms/step - loss: 0.0959 - accuracy: 0.9821 - val_loss: 0.8279 - val_accuracy: 0.7043\n",
      "123/123 [==============================] - 0s 705us/step\n",
      "Test Accuracy: [0.7346782431052093, 0.742849846782431, 0.745658835546476]\n",
      "Ave. Precision: [0.7361291362659481, 0.7444343709695042, 0.7455444246986375]\n",
      "Ave. Recall: [0.7346782431052093, 0.7428498467824312, 0.745658835546476]\n",
      "Ave. F1 Score: [0.7338980143923641, 0.7430220540602368, 0.7455587045952305]\n"
     ]
    }
   ],
   "source": [
    "# Sets seed\n",
    "np.random.seed(28)\n",
    "kf = KFold(n_splits = NUMBER_K_FOLDS)\n",
    "\n",
    "test_accuracy_list = []\n",
    "prec_list = []\n",
    "recall_list = []\n",
    "f1_list = []\n",
    "training_time_list = []\n",
    "prediction_time_list = []\n",
    "full_history =[]\n",
    "\n",
    "run = 0\n",
    "\n",
    "\n",
    "for train_inds, _ in kf.split(X_train):\n",
    "    run += 1\n",
    "    print('Run:', run)\n",
    "       \n",
    "    train_x = np.array([X_train[i] for i in train_inds])\n",
    "    train_y = np.array([author_train_hot[i] for i in train_inds])\n",
    "       \n",
    "    t0 = time.time()\n",
    "    # Fit model\n",
    "    cnn_model = define_model(input_size= input_size, output_size= output_size, verbose = False,\n",
    "                      cnn_layer_size = CNN_LAYER_SIZE, hidden_activation_fn = HIDDEN_ACTIVATION_FUNCTION,\n",
    "                      output_activation_fn = OUTPUT_ACTIVATION_FUNCTION, learning=LEARNING_RATE, loss_function = LOSS_FUNCTION, metrics=METRICS)\n",
    "\n",
    "    histroy = cnn_model.fit(train_x, train_y, epochs=EPOCH_LENGTH, batch_size=BATCH_SIZE, verbose = VERBOSE,validation_split = VALIDATION_PERCENTAGE)\n",
    "  \n",
    "    t1 = time.time()\n",
    "    \n",
    "    # Predict values for test set\n",
    "    author_pred1 = cnn_model.predict(X_test)\n",
    "    author_pred1 = author_lb.inverse_transform(author_pred1)\n",
    "\n",
    "    t2 = time.time()\n",
    "\n",
    "    # Evaluate\n",
    "    test_accuracy = accuracy_score(author_test, author_pred1)\n",
    "    precision, recall, f1, support = score(author_test, author_pred1)\n",
    "    ave_precision = np.average(precision, weights = support/np.sum(support))\n",
    "    ave_recall = np.average(recall, weights = support/np.sum(support))\n",
    "    ave_f1 = np.average(f1, weights = support/np.sum(support))\n",
    "    training_time = (t1 - t0)\n",
    "    prediction_time = (t2 - t1)\n",
    "    \n",
    "    test_accuracy_list.append(test_accuracy)\n",
    "    prec_list.append(ave_precision)\n",
    "    recall_list.append(ave_recall)\n",
    "    f1_list.append(ave_f1)\n",
    "    training_time_list.append(training_time)\n",
    "    prediction_time_list.append(prediction_time)\n",
    "    full_history.append(histroy)\n",
    "\n",
    "print(\"Test Accuracy:\", test_accuracy_list)\n",
    "print(\"Ave. Precision:\", prec_list)\n",
    "print(\"Ave. Recall:\", recall_list)\n",
    "print(\"Ave. F1 Score:\", f1_list)"
   ]
  },
  {
   "cell_type": "code",
   "execution_count": 66,
   "metadata": {},
   "outputs": [
    {
     "name": "stdout",
     "output_type": "stream",
     "text": [
      "Average Accuracy across K-folds: 0.7410623084780389\n",
      "Average Precision across K-folds: 0.7420359773113633\n",
      "Average Recall across K-folds: 0.7410623084780389\n",
      "Average F1 Score across K-folds: 0.7408262576826106\n",
      "Average Training Time across K-folds: 58.57004475593567 seconds\n",
      "Prediction Time across K-folds: 0.16100096702575684 seconds\n"
     ]
    }
   ],
   "source": [
    "#Get averages for kfold runs\n",
    "mean_accuracy_across_kfold = np.mean(test_accuracy_list)\n",
    "mean_percision_across_kfold = np.mean(prec_list)\n",
    "mean_recall_across_kfold = np.mean(recall_list)\n",
    "mean_f1_across_kfold = np.mean(f1_list)\n",
    "\n",
    "\n",
    "print(\"Average Accuracy across K-folds:\", mean_accuracy_across_kfold)\n",
    "print(\"Average Precision across K-folds:\", mean_percision_across_kfold)\n",
    "print(\"Average Recall across K-folds:\", mean_recall_across_kfold)\n",
    "print(\"Average F1 Score across K-folds:\", mean_f1_across_kfold)\n",
    "print(\"Average Training Time across K-folds:\", (t1 - t0), \"seconds\")\n",
    "print(\"Prediction Time across K-folds:\", (t2 - t1), \"seconds\")"
   ]
  },
  {
   "cell_type": "code",
   "execution_count": 67,
   "metadata": {},
   "outputs": [],
   "source": [
    "average_test_loss_accross_kfold = []\n",
    "average_validation_loss_accross_kfold = []\n",
    "average_test_accuracy_accross_kfold = []\n",
    "average_validation_accuracy_accross_kfold = []\n",
    "\n",
    "for i in range(len(full_history)):\n",
    "    average_test_loss_accross_kfold.append(full_history[i].history['loss'])\n",
    "    average_validation_loss_accross_kfold.append(full_history[i].history['val_loss'])\n",
    "\n",
    "    average_test_accuracy_accross_kfold.append(full_history[i].history['accuracy'])\n",
    "    average_validation_accuracy_accross_kfold.append(full_history[i].history['val_accuracy'])\n",
    "\n",
    "average_loss_accross_kfold = np.mean(average_test_loss_accross_kfold,axis=0)\n",
    "average_validation_loss_accross_kfold = np.mean(average_validation_loss_accross_kfold,axis=0)\n",
    "\n",
    "average_accuracy_accross_kfold = np.mean(average_test_accuracy_accross_kfold,axis=0)\n",
    "average_validation_accuracy_accross_kfold = np.mean(average_validation_accuracy_accross_kfold,axis=0)"
   ]
  },
  {
   "cell_type": "code",
   "execution_count": 68,
   "metadata": {},
   "outputs": [
    {
     "name": "stderr",
     "output_type": "stream",
     "text": [
      "The PostScript backend does not support transparency; partially transparent artists will be rendered opaque.\n"
     ]
    },
    {
     "data": {
      "image/png": "[encoded data removed]",
      "text/plain": [
       "<Figure size 640x480 with 1 Axes>"
      ]
     },
     "metadata": {},
     "output_type": "display_data"
    }
   ],
   "source": [
    "# summarize history for accuracy\n",
    "plt.plot(average_accuracy_accross_kfold)\n",
    "plt.plot(average_validation_accuracy_accross_kfold)\n",
    "plt.title('Convolutional Neural Network Accuracy (glove)')\n",
    "plt.ylabel('accuracy')\n",
    "plt.xlabel('epoch')\n",
    "plt.legend(['Train', 'Validation'], loc='upper left')\n",
    "plt.savefig(\"../outputs/Convolutional_neural_network_glove_acc.eps\", format='eps')\n",
    "plt.show()"
   ]
  },
  {
   "cell_type": "code",
   "execution_count": 69,
   "metadata": {},
   "outputs": [
    {
     "name": "stderr",
     "output_type": "stream",
     "text": [
      "The PostScript backend does not support transparency; partially transparent artists will be rendered opaque.\n"
     ]
    },
    {
     "data": {
      "image/png": "[encoded data removed]",
      "text/plain": [
       "<Figure size 640x480 with 1 Axes>"
      ]
     },
     "metadata": {},
     "output_type": "display_data"
    }
   ],
   "source": [
    "# summarize history for loss\n",
    "plt.plot(average_loss_accross_kfold)\n",
    "plt.plot(average_validation_loss_accross_kfold)\n",
    "plt.title('Convolutional Neural Network Loss (glove)')\n",
    "plt.ylabel('loss')\n",
    "plt.xlabel('epoch')\n",
    "plt.legend(['Train', 'Validation'], loc='upper left')\n",
    "plt.savefig(\"../outputs/Convolutional_neural_network__glove_loss.eps\", format='eps')\n",
    "plt.show()"
   ]
  }
 ],
 "metadata": {
  "kernelspec": {
   "display_name": "Python 3.9.6 64-bit",
   "language": "python",
   "name": "python3"
  },
  "language_info": {
   "codemirror_mode": {
    "name": "ipython",
    "version": 3
   },
   "file_extension": ".py",
   "mimetype": "text/x-python",
   "name": "python",
   "nbconvert_exporter": "python",
   "pygments_lexer": "ipython3",
   "version": "3.9.6"
  },
  "orig_nbformat": 4,
  "vscode": {
   "interpreter": {
    "hash": "81794d4967e6c3204c66dcd87b604927b115b27c00565d3d43f05ba2f3a2cb0d"
   }
  }
 },
 "nbformat": 4,
 "nbformat_minor": 2
}
